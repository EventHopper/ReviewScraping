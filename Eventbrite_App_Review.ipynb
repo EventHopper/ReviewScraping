{
  "nbformat": 4,
  "nbformat_minor": 0,
  "metadata": {
    "colab": {
      "name": "Eventbrite App Review",
      "provenance": [],
      "collapsed_sections": [
        "oiqbSRtWyZNw",
        "LL0TSRMnymUT",
        "Sn5r-on8z6qX"
      ],
      "toc_visible": true,
      "authorship_tag": "ABX9TyN3WTioHUbhmQfgPS48E1AU",
      "include_colab_link": true
    },
    "kernelspec": {
      "name": "python3",
      "display_name": "Python 3"
    }
  },
  "cells": [
    {
      "cell_type": "markdown",
      "metadata": {
        "id": "view-in-github",
        "colab_type": "text"
      },
      "source": [
        "<a href=\"https://colab.research.google.com/github/EventHopper/ReviewsScraping/blob/master/Eventbrite_App_Review.ipynb\" target=\"_parent\"><img src=\"https://colab.research.google.com/assets/colab-badge.svg\" alt=\"Open In Colab\"/></a>"
      ]
    },
    {
      "cell_type": "markdown",
      "metadata": {
        "id": "rdrSrB4Ar8Ze",
        "colab_type": "text"
      },
      "source": [
        "# **Eventbrite Competitive Review**\n",
        "\n",
        "\n",
        "---\n",
        "\n",
        "\n",
        "### **Application**\n",
        "**Eventbrite**\n",
        "\n",
        "Details:\n",
        "\n",
        "Size: 15MB,\n",
        "Installs: 10M+,\n",
        "Requires Android 5+\n",
        "\n",
        "---\n",
        "\n",
        "\n",
        "\n",
        "### **Review Rationale**\n",
        "\n",
        "*We want to review feedback for this app on the Google Play Store and AppStore. Note that both negative and positive are good, however the negative reviews can reveal critical features that are missing or significant bugs (if they appear frequently).*\n",
        "<br>\n",
        "\n",
        "### **Packages Used**\n",
        "\n",
        "**Google Play Store Related Packages:**\n",
        "\n",
        " - [google-play-scraper](https://github.com/JoMingyu/google-play-scraper)\n",
        "\n",
        "**AppStore Related Packages:**\n",
        "\n",
        "- TBA (to be added)"
      ]
    },
    {
      "cell_type": "markdown",
      "metadata": {
        "id": "TcrJk8xDrojX",
        "colab_type": "text"
      },
      "source": [
        "# Project Init"
      ]
    },
    {
      "cell_type": "code",
      "metadata": {
        "id": "Hk5RO6ItrKWX",
        "colab_type": "code",
        "outputId": "89b93b7b-b149-4aa1-bc11-6d0b805e978d",
        "colab": {
          "base_uri": "https://localhost:8080/",
          "height": 52
        }
      },
      "source": [
        "!pip install -qq google-play-scraper"
      ],
      "execution_count": 0,
      "outputs": [
        {
          "output_type": "stream",
          "text": [
            "\u001b[?25l\r\u001b[K     |██████▉                         | 10kB 23.2MB/s eta 0:00:01\r\u001b[K     |█████████████▋                  | 20kB 6.4MB/s eta 0:00:01\r\u001b[K     |████████████████████▍           | 30kB 7.5MB/s eta 0:00:01\r\u001b[K     |███████████████████████████▎    | 40kB 8.4MB/s eta 0:00:01\r\u001b[K     |████████████████████████████████| 51kB 3.9MB/s \n",
            "\u001b[?25h  Building wheel for google-play-scraper (setup.py) ... \u001b[?25l\u001b[?25hdone\n"
          ],
          "name": "stdout"
        }
      ]
    },
    {
      "cell_type": "code",
      "metadata": {
        "id": "eJD1KdNZrtXC",
        "colab_type": "code",
        "colab": {}
      },
      "source": [
        "!pip install -qq -U watermark"
      ],
      "execution_count": 0,
      "outputs": []
    },
    {
      "cell_type": "code",
      "metadata": {
        "id": "e3TzO5YrrtPQ",
        "colab_type": "code",
        "outputId": "2a26dfda-14d7-4191-a2d3-dd8a777a9665",
        "colab": {
          "base_uri": "https://localhost:8080/",
          "height": 194
        }
      },
      "source": [
        "%reload_ext watermark\n",
        "%watermark -v -p pandas,matplotlib,seaborn,google_play_scraper"
      ],
      "execution_count": 0,
      "outputs": [
        {
          "output_type": "stream",
          "text": [
            "CPython 3.6.9\n",
            "IPython 5.5.0\n",
            "\n",
            "pandas 1.0.4\n",
            "matplotlib 3.2.1\n",
            "seaborn 0.10.1\n",
            "google_play_scraper 0.0.2.6\n"
          ],
          "name": "stdout"
        },
        {
          "output_type": "stream",
          "text": [
            "/usr/local/lib/python3.6/dist-packages/statsmodels/tools/_testing.py:19: FutureWarning: pandas.util.testing is deprecated. Use the functions in the public API at pandas.testing instead.\n",
            "  import pandas.util.testing as tm\n"
          ],
          "name": "stderr"
        }
      ]
    },
    {
      "cell_type": "code",
      "metadata": {
        "id": "4DqqAjGYrxeT",
        "colab_type": "code",
        "colab": {}
      },
      "source": [
        "import json\n",
        "import time\n",
        "import pandas as pd\n",
        "from tqdm import tqdm\n",
        "\n",
        "import seaborn as sns\n",
        "import matplotlib.pyplot as plt\n",
        "\n",
        "from pygments import highlight\n",
        "from pygments.lexers import JsonLexer\n",
        "from pygments.formatters import TerminalFormatter\n",
        "\n",
        "from google_play_scraper import Sort, reviews, app\n",
        "\n",
        "%matplotlib inline\n",
        "%config InlineBackend.figure_format='retina'\n",
        "\n",
        "sns.set(style='whitegrid', palette='muted', font_scale=1.2)"
      ],
      "execution_count": 0,
      "outputs": []
    },
    {
      "cell_type": "markdown",
      "metadata": {
        "id": "4ZRO94Rlx_WJ",
        "colab_type": "text"
      },
      "source": [
        "# Data Wrangling"
      ]
    },
    {
      "cell_type": "markdown",
      "metadata": {
        "id": "ILxYFPjkSILt",
        "colab_type": "text"
      },
      "source": [
        "## Google Play Store Scraping"
      ]
    },
    {
      "cell_type": "markdown",
      "metadata": {
        "id": "oaSMAZ030f6j",
        "colab_type": "text"
      },
      "source": [
        "Step Summary:\n",
        "\n",
        "- Scrape Google Play app information\n",
        "- Scrape user reviews for Google Play apps\n",
        "- Save the dataset to CSV files"
      ]
    },
    {
      "cell_type": "markdown",
      "metadata": {
        "id": "xyGSUnsK3ZNW",
        "colab_type": "text"
      },
      "source": [
        "Package name of app: com.facebook.Socal\n",
        "Obtained using ADB shell command\n",
        "\n",
        "\n",
        "```\n",
        "$ adb shell \"pm list packages -f facebook\"\n",
        "```"
      ]
    },
    {
      "cell_type": "code",
      "metadata": {
        "id": "7pFMrjPEsQEk",
        "colab_type": "code",
        "colab": {}
      },
      "source": [
        "app_packages = [\n",
        "  'com.eventbrite.attendee'\n",
        "]"
      ],
      "execution_count": 0,
      "outputs": []
    },
    {
      "cell_type": "markdown",
      "metadata": {
        "id": "Lz5x1uj2sP2A",
        "colab_type": "text"
      },
      "source": [
        "Utilized package name in for loop (note multiple package names could have been added to app_packages for same result)"
      ]
    },
    {
      "cell_type": "code",
      "metadata": {
        "id": "6cqaJkR-tx9f",
        "colab_type": "code",
        "outputId": "246fa146-7b4c-442c-adbb-bc9bb449d323",
        "colab": {
          "base_uri": "https://localhost:8080/",
          "height": 34
        }
      },
      "source": [
        "app_infos = []\n",
        "\n",
        "for ap in tqdm(app_packages):\n",
        "  info = app(ap, lang='en', country='us')\n",
        "  del info['comments']\n",
        "  app_infos.append(info)"
      ],
      "execution_count": 0,
      "outputs": [
        {
          "output_type": "stream",
          "text": [
            "100%|██████████| 1/1 [00:00<00:00,  7.59it/s]\n"
          ],
          "name": "stderr"
        }
      ]
    },
    {
      "cell_type": "markdown",
      "metadata": {
        "id": "HcqDfOxyNWrA",
        "colab_type": "text"
      },
      "source": [
        "We got the info for the app. Let's write a helper function that prints JSON objects a bit better:"
      ]
    },
    {
      "cell_type": "code",
      "metadata": {
        "id": "6DhwJiXFt0Zb",
        "colab_type": "code",
        "colab": {}
      },
      "source": [
        "def print_json(json_object):\n",
        "  json_str = json.dumps(\n",
        "    json_object, \n",
        "    indent=2, \n",
        "    sort_keys=True, \n",
        "    default=str\n",
        "  )\n",
        "  print(highlight(json_str, JsonLexer(), TerminalFormatter()))"
      ],
      "execution_count": 0,
      "outputs": []
    },
    {
      "cell_type": "markdown",
      "metadata": {
        "id": "385fEVLONdac",
        "colab_type": "text"
      },
      "source": [
        "Here is a sample app information from the list:"
      ]
    },
    {
      "cell_type": "code",
      "metadata": {
        "id": "ZScwP1UDt2Ll",
        "colab_type": "code",
        "outputId": "e9e7d67e-7b19-429e-ad1e-9259a24b981f",
        "colab": {
          "base_uri": "https://localhost:8080/",
          "height": 1000
        }
      },
      "source": [
        "print_json(app_infos[0])"
      ],
      "execution_count": 0,
      "outputs": [
        {
          "output_type": "stream",
          "text": [
            "{\n",
            "  \u001b[34;01m\"adSupported\"\u001b[39;49;00m: \u001b[34mnull\u001b[39;49;00m,\n",
            "  \u001b[34;01m\"androidVersion\"\u001b[39;49;00m: \u001b[33m\"5.0\"\u001b[39;49;00m,\n",
            "  \u001b[34;01m\"androidVersionText\"\u001b[39;49;00m: \u001b[33m\"5.0 and up\"\u001b[39;49;00m,\n",
            "  \u001b[34;01m\"appId\"\u001b[39;49;00m: \u001b[33m\"com.eventbrite.attendee\"\u001b[39;49;00m,\n",
            "  \u001b[34;01m\"containsAds\"\u001b[39;49;00m: \u001b[34mnull\u001b[39;49;00m,\n",
            "  \u001b[34;01m\"contentRating\"\u001b[39;49;00m: \u001b[33m\"Everyone\"\u001b[39;49;00m,\n",
            "  \u001b[34;01m\"contentRatingDescription\"\u001b[39;49;00m: \u001b[34mnull\u001b[39;49;00m,\n",
            "  \u001b[34;01m\"currency\"\u001b[39;49;00m: \u001b[33m\"USD\"\u001b[39;49;00m,\n",
            "  \u001b[34;01m\"description\"\u001b[39;49;00m: \u001b[33m\"Discover upcoming events near you and get personalized recommendations. Stay up on the latest for popular events like concerts, festivals, yoga classes, holiday events on New Year\\u2019s Eve or Halloween and networking events. Find something fun to hit up by date, time and location. Buy tix and keep \\u2018em handy on your mobile device to make check-in nice and easy. Ready to explore?\\r\\n\\r\\nWith the Eventbrite app you can:\\r\\n\\r\\n\\u2022 Find what\\u2019s new and hot nearby at a wide variety of venues\\r\\n\\u2022 Stay in the know on what\\u2019s going on today, this week, this weekend, whenever\\r\\n\\u2022 Get personalized event recos for whatever you\\u2019re into\\r\\n\\u2022 Share events with your crew and vice versa\\r\\n\\u2022 Add upcoming events to your calendar\\r\\n\\u2022 Buy tickets and check out easily on your mobile phone\\r\\n\\u2022 Store your credit or debit cards for fast, secure checkout\\r\\n\\u2022 View event details so you can get there on time and own it\\r\\n\\u2022 Check-in with the app, ditch old school paper tix \\r\\n\\r\\nWhat does Eventbrite do?\\r\\n\\r\\nThere\\u2019s an amazing, fun, interesting world of events going on anywhere at anytime, we help you discover the best.\\r\\n\\r\\nYou can find things to do based on what you\\u2019re into, where you want to go or when you want to go out. \\r\\n\\r\\nWe\\u2019ll also personalize recommendations based on where you\\u2019ve been and what you like.\\r\\n\\r\\nLet\\u2019s get out there and explore.\\r\\n\\r\\nThis app is also available in German, Spanish, French, Italian, Dutch, Portuguese, and Swedish.\"\u001b[39;49;00m,\n",
            "  \u001b[34;01m\"descriptionHTML\"\u001b[39;49;00m: \u001b[33m\"Discover upcoming events near you and get personalized recommendations. Stay up on the latest for popular events like concerts, festivals, yoga classes, holiday events on New Year\\u2019s Eve or Halloween and networking events. Find something fun to hit up by date, time and location. Buy tix and keep \\u2018em handy on your mobile device to make check-in nice and easy. Ready to explore?<br><br>With the Eventbrite app you can:<br><br>\\u2022 Find what\\u2019s new and hot nearby at a wide variety of venues<br>\\u2022 Stay in the know on what\\u2019s going on today, this week, this weekend, whenever<br>\\u2022 Get personalized event recos for whatever you\\u2019re into<br>\\u2022 Share events with your crew and vice versa<br>\\u2022 Add upcoming events to your calendar<br>\\u2022 Buy tickets and check out easily on your mobile phone<br>\\u2022 Store your credit or debit cards for fast, secure checkout<br>\\u2022 View event details so you can get there on time and own it<br>\\u2022 Check-in with the app, ditch old school paper tix <br><br>What does Eventbrite do?<br><br>There\\u2019s an amazing, fun, interesting world of events going on anywhere at anytime, we help you discover the best.<br><br>You can find things to do based on what you\\u2019re into, where you want to go or when you want to go out. <br><br>We\\u2019ll also personalize recommendations based on where you\\u2019ve been and what you like.<br><br>Let\\u2019s get out there and explore.<br><br>This app is also available in German, Spanish, French, Italian, Dutch, Portuguese, and Swedish.\"\u001b[39;49;00m,\n",
            "  \u001b[34;01m\"developer\"\u001b[39;49;00m: \u001b[33m\"Eventbrite\"\u001b[39;49;00m,\n",
            "  \u001b[34;01m\"developerAddress\"\u001b[39;49;00m: \u001b[34mnull\u001b[39;49;00m,\n",
            "  \u001b[34;01m\"developerEmail\"\u001b[39;49;00m: \u001b[33m\"support@eventbrite.com\"\u001b[39;49;00m,\n",
            "  \u001b[34;01m\"developerId\"\u001b[39;49;00m: \u001b[33m\"Eventbrite\"\u001b[39;49;00m,\n",
            "  \u001b[34;01m\"developerInternalID\"\u001b[39;49;00m: \u001b[33m\"9041563572521034257\"\u001b[39;49;00m,\n",
            "  \u001b[34;01m\"developerWebsite\"\u001b[39;49;00m: \u001b[33m\"https://www.eventbrite.com/support/articleredirect?anum=11001\"\u001b[39;49;00m,\n",
            "  \u001b[34;01m\"free\"\u001b[39;49;00m: \u001b[34mtrue\u001b[39;49;00m,\n",
            "  \u001b[34;01m\"genre\"\u001b[39;49;00m: \u001b[33m\"Entertainment\"\u001b[39;49;00m,\n",
            "  \u001b[34;01m\"genreId\"\u001b[39;49;00m: \u001b[33m\"ENTERTAINMENT\"\u001b[39;49;00m,\n",
            "  \u001b[34;01m\"headerImage\"\u001b[39;49;00m: \u001b[33m\"https://lh3.googleusercontent.com/OQ41QAbOAeAuXT4_BUlGcxs_lZOGxJ1L19uLOkvvf2gMfo6sfRkBxIMB7IbaCXEws55D\"\u001b[39;49;00m,\n",
            "  \u001b[34;01m\"histogram\"\u001b[39;49;00m: [\n",
            "    \u001b[34m4498\u001b[39;49;00m,\n",
            "    \u001b[34m1282\u001b[39;49;00m,\n",
            "    \u001b[34m3215\u001b[39;49;00m,\n",
            "    \u001b[34m16313\u001b[39;49;00m,\n",
            "    \u001b[34m87919\u001b[39;49;00m\n",
            "  ],\n",
            "  \u001b[34;01m\"icon\"\u001b[39;49;00m: \u001b[33m\"https://lh3.googleusercontent.com/hfY-55MeAXJj6RQZzE9cLUNhQhdjm8Bt7gxJOYQtE718HjaFL9oFtEQg7RjBhyqByA-v\"\u001b[39;49;00m,\n",
            "  \u001b[34;01m\"installs\"\u001b[39;49;00m: \u001b[33m\"10,000,000+\"\u001b[39;49;00m,\n",
            "  \u001b[34;01m\"minInstalls\"\u001b[39;49;00m: \u001b[34m10000000\u001b[39;49;00m,\n",
            "  \u001b[34;01m\"offersIAP\"\u001b[39;49;00m: \u001b[34mnull\u001b[39;49;00m,\n",
            "  \u001b[34;01m\"originalPrice\"\u001b[39;49;00m: \u001b[34mnull\u001b[39;49;00m,\n",
            "  \u001b[34;01m\"price\"\u001b[39;49;00m: \u001b[34m0\u001b[39;49;00m,\n",
            "  \u001b[34;01m\"privacyPolicy\"\u001b[39;49;00m: \u001b[33m\"https://www.eventbrite.com/support/articleredirect?anum=8478\"\u001b[39;49;00m,\n",
            "  \u001b[34;01m\"ratings\"\u001b[39;49;00m: \u001b[34m113230\u001b[39;49;00m,\n",
            "  \u001b[34;01m\"recentChanges\"\u001b[39;49;00m: \u001b[33m\"Bug fixes and performance improvements\"\u001b[39;49;00m,\n",
            "  \u001b[34;01m\"recentChangesHTML\"\u001b[39;49;00m: \u001b[33m\"Bug fixes and performance improvements\"\u001b[39;49;00m,\n",
            "  \u001b[34;01m\"released\"\u001b[39;49;00m: \u001b[33m\"Jan 25, 2012\"\u001b[39;49;00m,\n",
            "  \u001b[34;01m\"reviews\"\u001b[39;49;00m: \u001b[34m35909\u001b[39;49;00m,\n",
            "  \u001b[34;01m\"sale\"\u001b[39;49;00m: \u001b[34mfalse\u001b[39;49;00m,\n",
            "  \u001b[34;01m\"saleText\"\u001b[39;49;00m: \u001b[34mnull\u001b[39;49;00m,\n",
            "  \u001b[34;01m\"saleTime\"\u001b[39;49;00m: \u001b[34mnull\u001b[39;49;00m,\n",
            "  \u001b[34;01m\"score\"\u001b[39;49;00m: \u001b[34m4.6062374\u001b[39;49;00m,\n",
            "  \u001b[34;01m\"screenshots\"\u001b[39;49;00m: [\n",
            "    \u001b[33m\"https://lh3.googleusercontent.com/9ASUpzj3se0ksTW3JjGodmhJUikE275G_gTd_3365Sd_4PtfOcutNNn6ci7C1vaRj17k\"\u001b[39;49;00m,\n",
            "    \u001b[33m\"https://lh3.googleusercontent.com/-DvWxOgvUrt5MKLexv6-XZmk3_pj0-Yq20S44AN4kRGPQddu4ggSpVSGJKBvOA3iDlo\"\u001b[39;49;00m,\n",
            "    \u001b[33m\"https://lh3.googleusercontent.com/cEQ5Vic4lb8d-jtQBDvseLBQutO1mSC6s616vkO-Ye-FUhgxVPqoNe7Vmms9UFjVEfk\"\u001b[39;49;00m,\n",
            "    \u001b[33m\"https://lh3.googleusercontent.com/RFuUbN7xCPWpExX1UCr6A9zpHSlfGjeZC4ZrtAvY6FEbiDEKHarfjukZDOiQ8WyoS48\"\u001b[39;49;00m,\n",
            "    \u001b[33m\"https://lh3.googleusercontent.com/bawbtthszw9-Cqok3Ej9xHKd1DWrUEgBJCdC_jpX58xoiFj-gW6CnrXWw0aRvrlT2wl1\"\u001b[39;49;00m,\n",
            "    \u001b[33m\"https://lh3.googleusercontent.com/vpD9ubGu-3gU1qSKqEPDezO06S9aCKxfoBfHO5688CrQg7gaRz0MoyH6mifkvjwJMCyx\"\u001b[39;49;00m\n",
            "  ],\n",
            "  \u001b[34;01m\"size\"\u001b[39;49;00m: \u001b[33m\"15M\"\u001b[39;49;00m,\n",
            "  \u001b[34;01m\"summary\"\u001b[39;49;00m: \u001b[33m\"Find upcoming events and local things to do, buy tix and check-in on mobile.\"\u001b[39;49;00m,\n",
            "  \u001b[34;01m\"summaryHTML\"\u001b[39;49;00m: \u001b[33m\"Find upcoming events and local things to do, buy tix and check-in on mobile.\"\u001b[39;49;00m,\n",
            "  \u001b[34;01m\"title\"\u001b[39;49;00m: \u001b[33m\"Eventbrite - Discover popular events & nearby fun\"\u001b[39;49;00m,\n",
            "  \u001b[34;01m\"updated\"\u001b[39;49;00m: \u001b[34m1591200567\u001b[39;49;00m,\n",
            "  \u001b[34;01m\"url\"\u001b[39;49;00m: \u001b[33m\"https://play.google.com/store/apps/details?id=com.eventbrite.attendee&hl=en&gl=us\"\u001b[39;49;00m,\n",
            "  \u001b[34;01m\"version\"\u001b[39;49;00m: \u001b[33m\"7.3.1\"\u001b[39;49;00m,\n",
            "  \u001b[34;01m\"video\"\u001b[39;49;00m: \u001b[34mnull\u001b[39;49;00m,\n",
            "  \u001b[34;01m\"videoImage\"\u001b[39;49;00m: \u001b[34mnull\u001b[39;49;00m\n",
            "}\n",
            "\n"
          ],
          "name": "stdout"
        }
      ]
    },
    {
      "cell_type": "markdown",
      "metadata": {
        "id": "dAOdYGkYODcZ",
        "colab_type": "text"
      },
      "source": [
        "This contains lots of information including the number of ratings, number of reviews and number of ratings for each score (1 to 5). Let's ignore all of that and have a look at their beautiful icons:"
      ]
    },
    {
      "cell_type": "code",
      "metadata": {
        "id": "8sL_W5hKuBYg",
        "colab_type": "code",
        "outputId": "4cc0b6e3-a203-4e10-e4ba-85554c023c60",
        "colab": {
          "base_uri": "https://localhost:8080/",
          "height": 34
        }
      },
      "source": [
        "def format_title(title):\n",
        "  sep_index = title.find(':') if title.find(':') != -1 else title.find('-')\n",
        "  if sep_index != -1:\n",
        "    title = title[:sep_index]\n",
        "  return title[:10]\n",
        "\n",
        "fig, axs = plt.subplots(2, len(app_infos) // 2, figsize=(14, 5))\n",
        "\n",
        "for i, ax in enumerate(axs.flat):\n",
        "  ai = app_infos[i]\n",
        "  img = plt.imread(ai['icon'])\n",
        "  ax.imshow(img)\n",
        "  ax.set_title(format_title(ai['title']))\n",
        "  ax.axis('off')"
      ],
      "execution_count": 0,
      "outputs": [
        {
          "output_type": "display_data",
          "data": {
            "text/plain": [
              "<Figure size 1008x360 with 0 Axes>"
            ]
          },
          "metadata": {
            "tags": []
          }
        }
      ]
    },
    {
      "cell_type": "code",
      "metadata": {
        "id": "ST9PrIjxuEHp",
        "colab_type": "code",
        "colab": {}
      },
      "source": [
        "timestr = time.strftime(\"%Y%m%d-%H%M%S\")\n",
        "app_infos_df = pd.DataFrame(app_infos)\n",
        "app_infos_df.to_csv('app_details'+timestr+'.csv', index=None, header=True)"
      ],
      "execution_count": 0,
      "outputs": []
    },
    {
      "cell_type": "markdown",
      "metadata": {
        "id": "mXqklWjwPLVv",
        "colab_type": "text"
      },
      "source": [
        "### Scraping App Reviews\n",
        "\n",
        "In an ideal world, we would get all the reviews. But there are lots of them and we're scraping the data. That wouldn't be very polite. What should we do?\n",
        "\n",
        "We want:\n",
        "\n",
        "- Balanced dataset - roughly the same number of reviews for each score (1-5)\n",
        "- A representative sample of the reviews for each app\n",
        "\n",
        "We can satisfy the first requirement by using the scraping package option to filter the review score. For the second, we'll sort the reviews by their helpfulness, which are the reviews that Google Play thinks are most important. Just in case, we'll get a subset from the newest, too:"
      ]
    },
    {
      "cell_type": "code",
      "metadata": {
        "id": "5_A4acPmuYpz",
        "colab_type": "code",
        "outputId": "26708216-5933-401c-ac58-ff3445977e35",
        "colab": {
          "base_uri": "https://localhost:8080/",
          "height": 34
        }
      },
      "source": [
        "app_reviews = []\n",
        "\n",
        "for ap in tqdm(app_packages):\n",
        "  for score in list(range(1, 6)):\n",
        "    for sort_order in [Sort.MOST_RELEVANT, Sort.NEWEST]:\n",
        "      rvs, _ = reviews(\n",
        "        ap,\n",
        "        lang='en',\n",
        "        country='us',\n",
        "        sort=sort_order,\n",
        "        count= 200 if score == 3 else 100,\n",
        "        filter_score_with=score\n",
        "      )\n",
        "      for r in rvs:\n",
        "        r['sortOrder'] = 'most_relevant' if sort_order == Sort.MOST_RELEVANT else 'newest'\n",
        "        r['appId'] = ap\n",
        "      app_reviews.extend(rvs)"
      ],
      "execution_count": 0,
      "outputs": [
        {
          "output_type": "stream",
          "text": [
            "100%|██████████| 1/1 [00:04<00:00,  4.97s/it]\n"
          ],
          "name": "stderr"
        }
      ]
    },
    {
      "cell_type": "code",
      "metadata": {
        "id": "B3bzOwATucIg",
        "colab_type": "code",
        "outputId": "00e1d32e-6826-4419-a3df-049b569d8a3f",
        "colab": {
          "base_uri": "https://localhost:8080/",
          "height": 299
        }
      },
      "source": [
        "print_json(app_reviews[0])"
      ],
      "execution_count": 0,
      "outputs": [
        {
          "output_type": "stream",
          "text": [
            "{\n",
            "  \u001b[34;01m\"appId\"\u001b[39;49;00m: \u001b[33m\"com.eventbrite.attendee\"\u001b[39;49;00m,\n",
            "  \u001b[34;01m\"at\"\u001b[39;49;00m: \u001b[33m\"2020-05-23 22:31:05\"\u001b[39;49;00m,\n",
            "  \u001b[34;01m\"content\"\u001b[39;49;00m: \u001b[33m\"Bought two tix from a Facebook post that had the incorrect date. First card hung at the last part of the transaction. So I purchased with a different card. Both cards were charged. When I requested a refund there was never a response. Re-requested multiple times with no response or update. Had to reach out to my bank for one them and I was refunded one transaction. Still outstanding on the other bank.\"\u001b[39;49;00m,\n",
            "  \u001b[34;01m\"repliedAt\"\u001b[39;49;00m: \u001b[34mnull\u001b[39;49;00m,\n",
            "  \u001b[34;01m\"replyContent\"\u001b[39;49;00m: \u001b[34mnull\u001b[39;49;00m,\n",
            "  \u001b[34;01m\"reviewCreatedVersion\"\u001b[39;49;00m: \u001b[33m\"7.2.1\"\u001b[39;49;00m,\n",
            "  \u001b[34;01m\"reviewId\"\u001b[39;49;00m: \u001b[33m\"gp:AOqpTOFwlZY0oEoPCb9g4ue9tGkfHtmtGfco9rwbIEOUhAeJu3zObhqufAo4Aifcr9QYKPDbxj_ZjPGXIGF1lg\"\u001b[39;49;00m,\n",
            "  \u001b[34;01m\"score\"\u001b[39;49;00m: \u001b[34m1\u001b[39;49;00m,\n",
            "  \u001b[34;01m\"sortOrder\"\u001b[39;49;00m: \u001b[33m\"most_relevant\"\u001b[39;49;00m,\n",
            "  \u001b[34;01m\"thumbsUpCount\"\u001b[39;49;00m: \u001b[34m15\u001b[39;49;00m,\n",
            "  \u001b[34;01m\"userImage\"\u001b[39;49;00m: \u001b[33m\"https://lh3.googleusercontent.com/a-/AOh14GgNpgUnT1UiUowMehHlq6YJAuh7GZ0Jdk32-VYdUg\"\u001b[39;49;00m,\n",
            "  \u001b[34;01m\"userName\"\u001b[39;49;00m: \u001b[33m\"Aaron Rutland\"\u001b[39;49;00m\n",
            "}\n",
            "\n"
          ],
          "name": "stdout"
        }
      ]
    },
    {
      "cell_type": "code",
      "metadata": {
        "id": "s7cJIH34ueaX",
        "colab_type": "code",
        "outputId": "218807d1-c50f-4609-96fa-0ecf2fceb4a3",
        "colab": {
          "base_uri": "https://localhost:8080/",
          "height": 34
        }
      },
      "source": [
        "len(app_reviews)"
      ],
      "execution_count": 0,
      "outputs": [
        {
          "output_type": "execute_result",
          "data": {
            "text/plain": [
              "1200"
            ]
          },
          "metadata": {
            "tags": []
          },
          "execution_count": 13
        }
      ]
    },
    {
      "cell_type": "code",
      "metadata": {
        "id": "5FQYEw71ugAP",
        "colab_type": "code",
        "colab": {}
      },
      "source": [
        "timestr = time.strftime(\"%Y%m%d-%H%M%S\")\n",
        "app_reviews_df = pd.DataFrame(app_reviews)\n",
        "app_reviews_df.to_csv('EventbriteReviews-'+timestr+'.csv', index=None, header=True)"
      ],
      "execution_count": 0,
      "outputs": []
    },
    {
      "cell_type": "markdown",
      "metadata": {
        "id": "oiqbSRtWyZNw",
        "colab_type": "text"
      },
      "source": [
        "## AppStore Scraping"
      ]
    },
    {
      "cell_type": "code",
      "metadata": {
        "id": "w0txH6Dkyq5k",
        "colab_type": "code",
        "colab": {}
      },
      "source": [
        "# TBA"
      ],
      "execution_count": 0,
      "outputs": []
    },
    {
      "cell_type": "markdown",
      "metadata": {
        "id": "LL0TSRMnymUT",
        "colab_type": "text"
      },
      "source": [
        "# EDA\n",
        "\n",
        "Next, we're going to use the reviews for sentiment analysis with BERT. But first, we'll have to do some text preprocessing!"
      ]
    },
    {
      "cell_type": "code",
      "metadata": {
        "id": "DH8TGQIKysxJ",
        "colab_type": "code",
        "colab": {}
      },
      "source": [
        "# TBA"
      ],
      "execution_count": 0,
      "outputs": []
    },
    {
      "cell_type": "markdown",
      "metadata": {
        "id": "p3OljmHvC_ZY",
        "colab_type": "text"
      },
      "source": [
        "# Summary\n",
        "\n",
        "TBA"
      ]
    },
    {
      "cell_type": "markdown",
      "metadata": {
        "id": "Sn5r-on8z6qX",
        "colab_type": "text"
      },
      "source": [
        "# References\n"
      ]
    },
    {
      "cell_type": "markdown",
      "metadata": {
        "id": "dZ5dYXR538Xt",
        "colab_type": "text"
      },
      "source": [
        "- [Brilliant tutorial for Google Play Store Scraping](https://www.curiousily.com/posts/create-dataset-for-sentiment-analysis-by-scraping-google-play-app-reviews-using-python/)"
      ]
    }
  ]
}