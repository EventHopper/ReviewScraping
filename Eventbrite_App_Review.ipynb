{
  "nbformat": 4,
  "nbformat_minor": 0,
  "metadata": {
    "colab": {
      "name": "Eventbrite App Review",
      "provenance": [],
      "collapsed_sections": [
        "oiqbSRtWyZNw",
        "LL0TSRMnymUT",
        "Sn5r-on8z6qX"
      ],
      "include_colab_link": true
    },
    "kernelspec": {
      "name": "python3",
      "display_name": "Python 3"
    }
  },
  "cells": [
    {
      "cell_type": "markdown",
      "metadata": {
        "id": "view-in-github",
        "colab_type": "text"
      },
      "source": [
        "<a href=\"https://colab.research.google.com/github/EventHopper/ReviewScraping/blob/master/Eventbrite_App_Review.ipynb\" target=\"_parent\"><img src=\"https://colab.research.google.com/assets/colab-badge.svg\" alt=\"Open In Colab\"/></a>"
      ]
    },
    {
      "cell_type": "markdown",
      "metadata": {
        "id": "rdrSrB4Ar8Ze",
        "colab_type": "text"
      },
      "source": [
        "# **Eventbrite Competitive Review**\n",
        "\n",
        "\n",
        "---\n",
        "\n",
        "\n",
        "### **Application**\n",
        "**Eventbrite**\n",
        "\n",
        "Details:\n",
        "\n",
        "Size: 15MB,\n",
        "Installs: 10M+,\n",
        "Requires Android 5+\n",
        "\n",
        "---\n",
        "\n",
        "\n",
        "\n",
        "### **Review Rationale**\n",
        "\n",
        "*We want to review feedback for this app on the Google Play Store and AppStore. Note that both negative and positive are good, however the negative reviews can reveal critical features that are missing or significant bugs (if they appear frequently).*\n",
        "<br>\n",
        "\n",
        "### **Packages Used**\n",
        "\n",
        "**Google Play Store Related Packages:**\n",
        "\n",
        " - [google-play-scraper](https://github.com/JoMingyu/google-play-scraper)\n",
        "\n",
        "**AppStore Related Packages:**\n",
        "\n",
        "- TBA (to be added)"
      ]
    },
    {
      "cell_type": "markdown",
      "metadata": {
        "id": "TcrJk8xDrojX",
        "colab_type": "text"
      },
      "source": [
        "# Project Init"
      ]
    },
    {
      "cell_type": "code",
      "metadata": {
        "id": "Hk5RO6ItrKWX",
        "colab_type": "code",
        "colab": {
          "base_uri": "https://localhost:8080/",
          "height": 53
        },
        "outputId": "f5030b2f-6c2b-4b46-d9f1-4257d969a5ae"
      },
      "source": [
        "!pip install -qq google-play-scraper"
      ],
      "execution_count": null,
      "outputs": [
        {
          "output_type": "stream",
          "text": [
            "\u001b[?25l\r\u001b[K     |██████▉                         | 10kB 16.1MB/s eta 0:00:01\r\u001b[K     |█████████████▋                  | 20kB 1.5MB/s eta 0:00:01\r\u001b[K     |████████████████████▍           | 30kB 2.0MB/s eta 0:00:01\r\u001b[K     |███████████████████████████▎    | 40kB 1.6MB/s eta 0:00:01\r\u001b[K     |████████████████████████████████| 51kB 1.5MB/s \n",
            "\u001b[?25h  Building wheel for google-play-scraper (setup.py) ... \u001b[?25l\u001b[?25hdone\n"
          ],
          "name": "stdout"
        }
      ]
    },
    {
      "cell_type": "code",
      "metadata": {
        "id": "eJD1KdNZrtXC",
        "colab_type": "code",
        "colab": {}
      },
      "source": [
        "!pip install -qq -U watermark"
      ],
      "execution_count": null,
      "outputs": []
    },
    {
      "cell_type": "code",
      "metadata": {
        "id": "e3TzO5YrrtPQ",
        "colab_type": "code",
        "colab": {}
      },
      "source": [
        "%reload_ext watermark\n",
        "%watermark -v -p pandas,matplotlib,seaborn,google_play_scraper"
      ],
      "execution_count": null,
      "outputs": []
    },
    {
      "cell_type": "code",
      "metadata": {
        "id": "2dHBum54Iw0V",
        "colab_type": "code",
        "colab": {}
      },
      "source": [
        "!pip install pandasql\n",
        "!pip install chart-studio\n",
        "!pip install sqlalchemy\n",
        "!pip install sqlite3\n",
        "!pip install scikit-plot"
      ],
      "execution_count": null,
      "outputs": []
    },
    {
      "cell_type": "code",
      "metadata": {
        "id": "FwL7PG3Bz1CU",
        "colab_type": "code",
        "colab": {}
      },
      "source": [
        "from google.colab import drive\n",
        "drive.mount('/content/drive')"
      ],
      "execution_count": null,
      "outputs": []
    },
    {
      "cell_type": "code",
      "metadata": {
        "id": "4DqqAjGYrxeT",
        "colab_type": "code",
        "colab": {}
      },
      "source": [
        "import json\n",
        "import time\n",
        "import pandas as pd\n",
        "from tqdm import tqdm\n",
        "\n",
        "import seaborn as sns\n",
        "import matplotlib.pyplot as plt\n",
        "from matplotlib.pyplot import figure\n",
        "from pandasql import sqldf\n",
        "\n",
        "from pygments import highlight\n",
        "from pygments.lexers import JsonLexer\n",
        "from pygments.formatters import TerminalFormatter\n",
        "\n",
        "from google_play_scraper import Sort, reviews, app\n",
        "\n",
        "%matplotlib inline\n",
        "%config InlineBackend.figure_format='retina'\n",
        "\n",
        "sns.set(style='whitegrid', palette='muted', font_scale=1.2)"
      ],
      "execution_count": null,
      "outputs": []
    },
    {
      "cell_type": "markdown",
      "metadata": {
        "id": "4ZRO94Rlx_WJ",
        "colab_type": "text"
      },
      "source": [
        "# Data Wrangling"
      ]
    },
    {
      "cell_type": "markdown",
      "metadata": {
        "id": "ILxYFPjkSILt",
        "colab_type": "text"
      },
      "source": [
        "## Google Play Store Scraping"
      ]
    },
    {
      "cell_type": "markdown",
      "metadata": {
        "id": "oaSMAZ030f6j",
        "colab_type": "text"
      },
      "source": [
        "Step Summary:\n",
        "\n",
        "- Scrape Google Play app information\n",
        "- Scrape user reviews for Google Play apps\n",
        "- Save the dataset to CSV files"
      ]
    },
    {
      "cell_type": "markdown",
      "metadata": {
        "id": "xyGSUnsK3ZNW",
        "colab_type": "text"
      },
      "source": [
        "Package name of app: com.facebook.Socal\n",
        "Obtained using ADB shell command\n",
        "\n",
        "\n",
        "```\n",
        "$ adb shell \"pm list packages -f facebook\"\n",
        "```"
      ]
    },
    {
      "cell_type": "code",
      "metadata": {
        "id": "7pFMrjPEsQEk",
        "colab_type": "code",
        "colab": {}
      },
      "source": [
        "app_packages = [\n",
        "  'com.eventbrite.attendee'\n",
        "]"
      ],
      "execution_count": null,
      "outputs": []
    },
    {
      "cell_type": "markdown",
      "metadata": {
        "id": "Lz5x1uj2sP2A",
        "colab_type": "text"
      },
      "source": [
        "Utilized package name in for loop (note multiple package names could have been added to app_packages for same result)"
      ]
    },
    {
      "cell_type": "code",
      "metadata": {
        "id": "6cqaJkR-tx9f",
        "colab_type": "code",
        "colab": {
          "base_uri": "https://localhost:8080/",
          "height": 35
        },
        "outputId": "4ff398fc-4d14-48c7-fdde-3a4b3e66b854"
      },
      "source": [
        "app_infos = []\n",
        "\n",
        "for ap in tqdm(app_packages):\n",
        "  info = app(ap, lang='en', country='us')\n",
        "  del info['comments']\n",
        "  app_infos.append(info)"
      ],
      "execution_count": null,
      "outputs": [
        {
          "output_type": "stream",
          "text": [
            "100%|██████████| 1/1 [00:00<00:00,  6.70it/s]\n"
          ],
          "name": "stderr"
        }
      ]
    },
    {
      "cell_type": "markdown",
      "metadata": {
        "id": "HcqDfOxyNWrA",
        "colab_type": "text"
      },
      "source": [
        "We got the info for the app. Let's write a helper function that prints JSON objects a bit better:"
      ]
    },
    {
      "cell_type": "code",
      "metadata": {
        "id": "6DhwJiXFt0Zb",
        "colab_type": "code",
        "colab": {}
      },
      "source": [
        "def print_json(json_object):\n",
        "  json_str = json.dumps(\n",
        "    json_object, \n",
        "    indent=2, \n",
        "    sort_keys=True, \n",
        "    default=str\n",
        "  )\n",
        "  print(highlight(json_str, JsonLexer(), TerminalFormatter()))"
      ],
      "execution_count": null,
      "outputs": []
    },
    {
      "cell_type": "markdown",
      "metadata": {
        "id": "385fEVLONdac",
        "colab_type": "text"
      },
      "source": [
        "Here is a sample app information from the list:"
      ]
    },
    {
      "cell_type": "code",
      "metadata": {
        "id": "ZScwP1UDt2Ll",
        "colab_type": "code",
        "colab": {}
      },
      "source": [
        "print_json(app_infos[0])"
      ],
      "execution_count": null,
      "outputs": []
    },
    {
      "cell_type": "markdown",
      "metadata": {
        "id": "dAOdYGkYODcZ",
        "colab_type": "text"
      },
      "source": [
        "This contains lots of information including the number of ratings, number of reviews and number of ratings for each score (1 to 5). Let's ignore all of that and have a look at their beautiful icons:"
      ]
    },
    {
      "cell_type": "code",
      "metadata": {
        "id": "8sL_W5hKuBYg",
        "colab_type": "code",
        "colab": {
          "base_uri": "https://localhost:8080/",
          "height": 35
        },
        "outputId": "1d575cad-7075-49b0-f4a1-55c00b724cc4"
      },
      "source": [
        "def format_title(title):\n",
        "  sep_index = title.find(':') if title.find(':') != -1 else title.find('-')\n",
        "  if sep_index != -1:\n",
        "    title = title[:sep_index]\n",
        "  return title[:10]\n",
        "\n",
        "fig, axs = plt.subplots(2, len(app_infos) // 2, figsize=(14, 5))\n",
        "\n",
        "for i, ax in enumerate(axs.flat):\n",
        "  ai = app_infos[i]\n",
        "  img = plt.imread(ai['icon'])\n",
        "  ax.imshow(img)\n",
        "  ax.set_title(format_title(ai['title']))\n",
        "  ax.axis('off')"
      ],
      "execution_count": null,
      "outputs": [
        {
          "output_type": "display_data",
          "data": {
            "text/plain": [
              "<Figure size 1008x360 with 0 Axes>"
            ]
          },
          "metadata": {
            "tags": []
          }
        }
      ]
    },
    {
      "cell_type": "code",
      "metadata": {
        "id": "ST9PrIjxuEHp",
        "colab_type": "code",
        "colab": {}
      },
      "source": [
        "timestr = time.strftime(\"%Y%m%d-%H%M%S\")\n",
        "app_infos_df = pd.DataFrame(app_infos)\n",
        "app_infos_df.to_csv('app_details'+timestr+'.csv', index=None, header=True)"
      ],
      "execution_count": null,
      "outputs": []
    },
    {
      "cell_type": "markdown",
      "metadata": {
        "id": "mXqklWjwPLVv",
        "colab_type": "text"
      },
      "source": [
        "### Scraping App Reviews\n",
        "\n",
        "In an ideal world, we would get all the reviews. But there are lots of them and we're scraping the data. That wouldn't be very polite. What should we do?\n",
        "\n",
        "We want:\n",
        "\n",
        "- Balanced dataset - roughly the same number of reviews for each score (1-5)\n",
        "- A representative sample of the reviews for each app\n",
        "\n",
        "We can satisfy the first requirement by using the scraping package option to filter the review score. For the second, we'll sort the reviews by their helpfulness, which are the reviews that Google Play thinks are most important. Just in case, we'll get a subset from the newest, too:"
      ]
    },
    {
      "cell_type": "code",
      "metadata": {
        "id": "5_A4acPmuYpz",
        "colab_type": "code",
        "colab": {
          "base_uri": "https://localhost:8080/",
          "height": 35
        },
        "outputId": "60d389ec-915c-40cf-b14d-e2310490481f"
      },
      "source": [
        "app_reviews = []\n",
        "\n",
        "for ap in tqdm(app_packages):\n",
        "  for score in list(range(1, 6)):\n",
        "    for sort_order in [Sort.MOST_RELEVANT, Sort.NEWEST]:\n",
        "      rvs, _ = reviews(\n",
        "        ap,\n",
        "        lang='en',\n",
        "        country='us',\n",
        "        sort=sort_order,\n",
        "        count= 200 if score == 3 else 100,\n",
        "        filter_score_with=score\n",
        "      )\n",
        "      for r in rvs:\n",
        "        r['sortOrder'] = 'most_relevant' if sort_order == Sort.MOST_RELEVANT else 'newest'\n",
        "        r['appId'] = ap\n",
        "      app_reviews.extend(rvs)"
      ],
      "execution_count": null,
      "outputs": [
        {
          "output_type": "stream",
          "text": [
            "100%|██████████| 1/1 [00:06<00:00,  6.60s/it]\n"
          ],
          "name": "stderr"
        }
      ]
    },
    {
      "cell_type": "code",
      "metadata": {
        "id": "B3bzOwATucIg",
        "colab_type": "code",
        "colab": {}
      },
      "source": [
        "print_json(app_reviews[:5])"
      ],
      "execution_count": null,
      "outputs": []
    },
    {
      "cell_type": "code",
      "metadata": {
        "id": "s7cJIH34ueaX",
        "colab_type": "code",
        "colab": {}
      },
      "source": [
        "len(app_reviews)"
      ],
      "execution_count": null,
      "outputs": []
    },
    {
      "cell_type": "code",
      "metadata": {
        "id": "5FQYEw71ugAP",
        "colab_type": "code",
        "colab": {}
      },
      "source": [
        "timestr = time.strftime(\"%Y%m%d-%H%M%S\")\n",
        "app_reviews_df = pd.DataFrame(app_reviews)\n",
        "app_reviews_df.to_csv('EventbriteReviews-'+timestr+'.csv', index=None, header=True)"
      ],
      "execution_count": null,
      "outputs": []
    },
    {
      "cell_type": "markdown",
      "metadata": {
        "id": "oiqbSRtWyZNw",
        "colab_type": "text"
      },
      "source": [
        "## AppStore Scraping"
      ]
    },
    {
      "cell_type": "code",
      "metadata": {
        "id": "w0txH6Dkyq5k",
        "colab_type": "code",
        "colab": {}
      },
      "source": [
        "!pip install app_store"
      ],
      "execution_count": null,
      "outputs": []
    },
    {
      "cell_type": "code",
      "metadata": {
        "id": "XEtUAIHe2S6w",
        "colab_type": "code",
        "colab": {}
      },
      "source": [
        "import app_store.reviews"
      ],
      "execution_count": null,
      "outputs": []
    },
    {
      "cell_type": "code",
      "metadata": {
        "id": "j0D0PJqk2YfQ",
        "colab_type": "code",
        "colab": {}
      },
      "source": [
        "d = []\n",
        "i = 1;\n",
        "try:\n",
        "  while(i < 11):\n",
        "    reviews = app_store.reviews.fetch_reviews(app_id=487922291, page_num=i)\n",
        "    for review in reviews:\n",
        "      d.append((review.title(), review.rating(), review.author_name(), review.version(), review.content()))\n",
        "    i+=1\n",
        "except:\n",
        "  print(\"Page number not found \", i)\n",
        "\n",
        "ios_reviews_df = pd.DataFrame(d, columns=('Review_Title', 'Rating', 'Author_Name', 'Review_Version', 'Content'))"
      ],
      "execution_count": null,
      "outputs": []
    },
    {
      "cell_type": "code",
      "metadata": {
        "id": "6evWEhwS24Ip",
        "colab_type": "code",
        "colab": {}
      },
      "source": [
        "# ios_reviews_df.to_csv('eventbrite_reviews_ios.csv', sep='\\t', encoding='utf-8')\n",
        "ios_reviews_df.head(5)"
      ],
      "execution_count": null,
      "outputs": []
    },
    {
      "cell_type": "code",
      "metadata": {
        "id": "0NleC0LV6VJl",
        "colab_type": "code",
        "colab": {}
      },
      "source": [
        "reviews_android = app_reviews_df[['content', 'score', 'at']].copy()\n",
        "reviews_ios = ios_reviews_df[['Content', 'Rating']].copy()\n",
        "reviews_android.rename(columns={'score': 'rating', 'at': 'date'}, inplace=True)"
      ],
      "execution_count": null,
      "outputs": []
    },
    {
      "cell_type": "code",
      "metadata": {
        "id": "QV66jz_28Bjr",
        "colab_type": "code",
        "colab": {}
      },
      "source": [
        "reviews_android.to_csv('eventbrite_reviews_android_clean.csv', sep='\\t', encoding='utf-8')\n",
        "reviews_ios.to_csv('eventbrite_reviews_ios_clean.csv', sep='\\t', encoding='utf-8')"
      ],
      "execution_count": null,
      "outputs": []
    },
    {
      "cell_type": "markdown",
      "metadata": {
        "id": "LL0TSRMnymUT",
        "colab_type": "text"
      },
      "source": [
        "# EDA\n",
        "\n",
        "Next, we're going to use the reviews for sentiment analysis with BERT. But first, we'll have to do some text preprocessing!"
      ]
    },
    {
      "cell_type": "code",
      "metadata": {
        "id": "DH8TGQIKysxJ",
        "colab_type": "code",
        "colab": {}
      },
      "source": [
        "android_clean_url = 'https://raw.githubusercontent.com/EventHopper/Research/master/Raw%20Data/Reviews/eventbrite/eventbrite_reviews_android_clean.csv?token=ALBUOYYC2DCSZSWUAZ4EH4S66JYSW'\n",
        "android_raw_url = 'https://raw.githubusercontent.com/EventHopper/Research/master/Raw%20Data/Reviews/eventbrite/eventbrite_reviews_android_raw.csv?token=ALBUOY4VACZ6DJORZJ7CQA266JYZE'\n",
        "ios_clean_url = 'https://raw.githubusercontent.com/EventHopper/Research/master/Raw%20Data/Reviews/eventbrite/eventbrite_reviews_ios_clean.csv?token=ALBUOYZ5BQLEQAVIPMCV5O266JZZ6'\n",
        "ios_raw_url = 'https://raw.githubusercontent.com/EventHopper/Research/master/Raw%20Data/Reviews/eventbrite/eventbrite_reviews_ios_raw.csv?token=ALBUOY2XL6QSKOQZITMEH2K66JZ3A'"
      ],
      "execution_count": null,
      "outputs": []
    },
    {
      "cell_type": "code",
      "metadata": {
        "id": "dw0UiuZAC_Gy",
        "colab_type": "code",
        "colab": {}
      },
      "source": [
        "reviews_android_raw = pd.read_csv(android_raw_url)\n",
        "reviews_android_clean = pd.read_csv(android_clean_url, sep='\\t', encoding='utf-8')\n",
        "reviews_ios_raw = pd.read_csv(ios_raw_url, sep='\\t', encoding='utf-8')\n",
        "reviews_ios_clean = pd.read_csv(ios_clean_url, sep='\\t', encoding='utf-8')"
      ],
      "execution_count": null,
      "outputs": []
    },
    {
      "cell_type": "code",
      "metadata": {
        "id": "rIQP8eepDmCM",
        "colab_type": "code",
        "colab": {}
      },
      "source": [
        "reviews_android_clean['date'] = reviews_android_clean['date'].apply(lambda x : pd.to_datetime(x))\n",
        "reviews_android_clean['date'] = reviews_android_clean['date'].dt.strftime('%Y-%m')"
      ],
      "execution_count": null,
      "outputs": []
    },
    {
      "cell_type": "code",
      "metadata": {
        "id": "7hXMGjTAINUD",
        "colab_type": "code",
        "colab": {
          "base_uri": "https://localhost:8080/",
          "height": 204
        },
        "outputId": "19a7ea2d-a3eb-4678-c5f0-b8af7caa4a52"
      },
      "source": [
        "opinions_df = lambda q: sqldf(q, globals())\n",
        "query = \"\"\"\n",
        "SELECT\n",
        "    AVG(p.rating) as average_score, p.date as date\n",
        "FROM\n",
        "    reviews_android_clean p\n",
        "GROUP BY\n",
        "    p.Date\n",
        "ORDER BY\n",
        "    p.Date ASC\n",
        "\"\"\"\n",
        "df_temp = opinions_df(query)\n",
        "# df_temp.head()\n",
        "android_grouped_by_score_df = df_temp\n",
        "android_grouped_by_score_df.head()"
      ],
      "execution_count": null,
      "outputs": [
        {
          "output_type": "execute_result",
          "data": {
            "text/html": [
              "<div>\n",
              "<style scoped>\n",
              "    .dataframe tbody tr th:only-of-type {\n",
              "        vertical-align: middle;\n",
              "    }\n",
              "\n",
              "    .dataframe tbody tr th {\n",
              "        vertical-align: top;\n",
              "    }\n",
              "\n",
              "    .dataframe thead th {\n",
              "        text-align: right;\n",
              "    }\n",
              "</style>\n",
              "<table border=\"1\" class=\"dataframe\">\n",
              "  <thead>\n",
              "    <tr style=\"text-align: right;\">\n",
              "      <th></th>\n",
              "      <th>average_score</th>\n",
              "      <th>date</th>\n",
              "    </tr>\n",
              "  </thead>\n",
              "  <tbody>\n",
              "    <tr>\n",
              "      <th>0</th>\n",
              "      <td>2.400000</td>\n",
              "      <td>2018-09</td>\n",
              "    </tr>\n",
              "    <tr>\n",
              "      <th>1</th>\n",
              "      <td>2.636364</td>\n",
              "      <td>2018-10</td>\n",
              "    </tr>\n",
              "    <tr>\n",
              "      <th>2</th>\n",
              "      <td>2.733333</td>\n",
              "      <td>2018-11</td>\n",
              "    </tr>\n",
              "    <tr>\n",
              "      <th>3</th>\n",
              "      <td>2.444444</td>\n",
              "      <td>2018-12</td>\n",
              "    </tr>\n",
              "    <tr>\n",
              "      <th>4</th>\n",
              "      <td>2.800000</td>\n",
              "      <td>2019-01</td>\n",
              "    </tr>\n",
              "  </tbody>\n",
              "</table>\n",
              "</div>"
            ],
            "text/plain": [
              "   average_score     date\n",
              "0       2.400000  2018-09\n",
              "1       2.636364  2018-10\n",
              "2       2.733333  2018-11\n",
              "3       2.444444  2018-12\n",
              "4       2.800000  2019-01"
            ]
          },
          "metadata": {
            "tags": []
          },
          "execution_count": 65
        }
      ]
    },
    {
      "cell_type": "code",
      "metadata": {
        "id": "r-ULDmY3JGTc",
        "colab_type": "code",
        "colab": {
          "base_uri": "https://localhost:8080/",
          "height": 515
        },
        "outputId": "64be6b20-476c-4bbb-9441-9a0cbb9c35f8"
      },
      "source": [
        "labelpad = 30\n",
        "    \n",
        "with plt.style.context('fivethirtyeight'):\n",
        "    fig = figure(num=None, figsize=(15,5), dpi=80, facecolor='white', edgecolor='w')\n",
        "    fig.suptitle('Trend in Average Rating on Google Play', fontsize=30)\n",
        "    plt.xlabel('Date (Y-M)', fontsize=18, labelpad=labelpad)\n",
        "    plt.ylabel('Average Reviewer Score (Out of 5)', fontsize=16, labelpad=labelpad)\n",
        "    plt.plot(android_grouped_by_score_df.date, android_grouped_by_score_df.average_score, 'r-o')\n",
        "    plt.xticks(rotation='vertical',ticks = None, labels=None)\n",
        "plt.show()"
      ],
      "execution_count": null,
      "outputs": [
        {
          "output_type": "display_data",
          "data": {
            "image/png": "[encoded data removed]",
            "text/plain": [
              "<Figure size 1200x400 with 1 Axes>"
            ]
          },
          "metadata": {
            "tags": [],
            "image/png": {
              "width": 1146,
              "height": 498
            }
          }
        }
      ]
    },
    {
      "cell_type": "code",
      "metadata": {
        "id": "XPRnPYQKN6wo",
        "colab_type": "code",
        "colab": {}
      },
      "source": [
        "from textblob import TextBlob"
      ],
      "execution_count": null,
      "outputs": []
    },
    {
      "cell_type": "markdown",
      "metadata": {
        "id": "mFRSMIDrOhFw",
        "colab_type": "text"
      },
      "source": [
        "**Polarity Metric** - from -1 to 1 a metric of how positive or negative a review is \n",
        "\n",
        "**Subjectivity Metric** - measured between 0 and 1 based on factual information vs generic opinion\n",
        "\n",
        "[See Here for Learning about TextBlob](https://www.analyticsvidhya.com/blog/2018/02/natural-language-processing-for-beginners-using-textblob/#:~:text=The%20sentiment%20function%20of%20textblob,properties%2C%20polarity%2C%20and%20subjectivity.&text=Subjective%20sentences%20generally%20refer%20to,of%20%5B0%2C1%5D.)\n",
        "\n",
        "[TextBlob uses a Naive Bayes algorithm as a part of Stanford's NLTK and was trained on movie reviews to determine textual sentiment](https://stackoverflow.com/questions/34518570/how-are-sentiment-analysis-computed-in-blob)"
      ]
    },
    {
      "cell_type": "code",
      "metadata": {
        "id": "mQS3Zu7bN8Qr",
        "colab_type": "code",
        "colab": {
          "base_uri": "https://localhost:8080/",
          "height": 359
        },
        "outputId": "7aa6f763-a2cc-42ab-bde5-a913616ba173"
      },
      "source": [
        "android_reviews_df = reviews_android_clean\n",
        "android_reviews_df['word_count'] = android_reviews_df['content'].apply(lambda x: len(x.split()))\n",
        "android_reviews_df.head(10)"
      ],
      "execution_count": null,
      "outputs": [
        {
          "output_type": "execute_result",
          "data": {
            "text/html": [
              "<div>\n",
              "<style scoped>\n",
              "    .dataframe tbody tr th:only-of-type {\n",
              "        vertical-align: middle;\n",
              "    }\n",
              "\n",
              "    .dataframe tbody tr th {\n",
              "        vertical-align: top;\n",
              "    }\n",
              "\n",
              "    .dataframe thead th {\n",
              "        text-align: right;\n",
              "    }\n",
              "</style>\n",
              "<table border=\"1\" class=\"dataframe\">\n",
              "  <thead>\n",
              "    <tr style=\"text-align: right;\">\n",
              "      <th></th>\n",
              "      <th>Unnamed: 0</th>\n",
              "      <th>content</th>\n",
              "      <th>rating</th>\n",
              "      <th>date</th>\n",
              "      <th>word_count</th>\n",
              "    </tr>\n",
              "  </thead>\n",
              "  <tbody>\n",
              "    <tr>\n",
              "      <th>0</th>\n",
              "      <td>0</td>\n",
              "      <td>Bought two tix from a Facebook post that had t...</td>\n",
              "      <td>1</td>\n",
              "      <td>2020-05</td>\n",
              "      <td>73</td>\n",
              "    </tr>\n",
              "    <tr>\n",
              "      <th>1</th>\n",
              "      <td>1</td>\n",
              "      <td>Recent version doesn't allow to get tickets fr...</td>\n",
              "      <td>1</td>\n",
              "      <td>2020-06</td>\n",
              "      <td>30</td>\n",
              "    </tr>\n",
              "    <tr>\n",
              "      <th>2</th>\n",
              "      <td>2</td>\n",
              "      <td>The worst experience as an organizer. Since th...</td>\n",
              "      <td>1</td>\n",
              "      <td>2020-05</td>\n",
              "      <td>45</td>\n",
              "    </tr>\n",
              "    <tr>\n",
              "      <th>3</th>\n",
              "      <td>3</td>\n",
              "      <td>This App is worst then the site itself. The si...</td>\n",
              "      <td>1</td>\n",
              "      <td>2020-04</td>\n",
              "      <td>94</td>\n",
              "    </tr>\n",
              "    <tr>\n",
              "      <th>4</th>\n",
              "      <td>4</td>\n",
              "      <td>There are information about entering into an e...</td>\n",
              "      <td>1</td>\n",
              "      <td>2020-04</td>\n",
              "      <td>78</td>\n",
              "    </tr>\n",
              "    <tr>\n",
              "      <th>5</th>\n",
              "      <td>5</td>\n",
              "      <td>The screen overrides your settings &amp; becomes u...</td>\n",
              "      <td>1</td>\n",
              "      <td>2020-06</td>\n",
              "      <td>17</td>\n",
              "    </tr>\n",
              "    <tr>\n",
              "      <th>6</th>\n",
              "      <td>6</td>\n",
              "      <td>Does not work on Chromebooks laptop. You can't...</td>\n",
              "      <td>1</td>\n",
              "      <td>2020-03</td>\n",
              "      <td>26</td>\n",
              "    </tr>\n",
              "    <tr>\n",
              "      <th>7</th>\n",
              "      <td>7</td>\n",
              "      <td>It wouldn't let me log in, uninstall and insta...</td>\n",
              "      <td>1</td>\n",
              "      <td>2020-04</td>\n",
              "      <td>23</td>\n",
              "    </tr>\n",
              "    <tr>\n",
              "      <th>8</th>\n",
              "      <td>8</td>\n",
              "      <td>It is very slow on my android phone, and the r...</td>\n",
              "      <td>1</td>\n",
              "      <td>2020-04</td>\n",
              "      <td>19</td>\n",
              "    </tr>\n",
              "    <tr>\n",
              "      <th>9</th>\n",
              "      <td>9</td>\n",
              "      <td>Still waiting on refunds for tickets that have...</td>\n",
              "      <td>1</td>\n",
              "      <td>2020-05</td>\n",
              "      <td>30</td>\n",
              "    </tr>\n",
              "  </tbody>\n",
              "</table>\n",
              "</div>"
            ],
            "text/plain": [
              "   Unnamed: 0  ... word_count\n",
              "0           0  ...         73\n",
              "1           1  ...         30\n",
              "2           2  ...         45\n",
              "3           3  ...         94\n",
              "4           4  ...         78\n",
              "5           5  ...         17\n",
              "6           6  ...         26\n",
              "7           7  ...         23\n",
              "8           8  ...         19\n",
              "9           9  ...         30\n",
              "\n",
              "[10 rows x 5 columns]"
            ]
          },
          "metadata": {
            "tags": []
          },
          "execution_count": 70
        }
      ]
    },
    {
      "cell_type": "code",
      "metadata": {
        "id": "OLF-ux6-PTQ5",
        "colab_type": "code",
        "colab": {
          "base_uri": "https://localhost:8080/",
          "height": 204
        },
        "outputId": "ef6f6d34-8eb3-4c33-cfee-0f8c4cb0d324"
      },
      "source": [
        "ios_reviews_df = reviews_ios_raw\n",
        "ios_reviews_df['word_count'] = ios_reviews_df['Content'].apply(lambda x: len(x.split()))\n",
        "ios_reviews_df.head()"
      ],
      "execution_count": null,
      "outputs": [
        {
          "output_type": "execute_result",
          "data": {
            "text/html": [
              "<div>\n",
              "<style scoped>\n",
              "    .dataframe tbody tr th:only-of-type {\n",
              "        vertical-align: middle;\n",
              "    }\n",
              "\n",
              "    .dataframe tbody tr th {\n",
              "        vertical-align: top;\n",
              "    }\n",
              "\n",
              "    .dataframe thead th {\n",
              "        text-align: right;\n",
              "    }\n",
              "</style>\n",
              "<table border=\"1\" class=\"dataframe\">\n",
              "  <thead>\n",
              "    <tr style=\"text-align: right;\">\n",
              "      <th></th>\n",
              "      <th>Unnamed: 0</th>\n",
              "      <th>Review_Title</th>\n",
              "      <th>Rating</th>\n",
              "      <th>Author_Name</th>\n",
              "      <th>Review_Version</th>\n",
              "      <th>Content</th>\n",
              "      <th>word_count</th>\n",
              "    </tr>\n",
              "  </thead>\n",
              "  <tbody>\n",
              "    <tr>\n",
              "      <th>0</th>\n",
              "      <td>0</td>\n",
              "      <td>Lazy</td>\n",
              "      <td>1</td>\n",
              "      <td>fgdgfdfdfd</td>\n",
              "      <td>8.0.8</td>\n",
              "      <td>Look people use your app. We should be able to...</td>\n",
              "      <td>38</td>\n",
              "    </tr>\n",
              "    <tr>\n",
              "      <th>1</th>\n",
              "      <td>1</td>\n",
              "      <td>iPhone Calendar won’t integrate</td>\n",
              "      <td>1</td>\n",
              "      <td>Garland8</td>\n",
              "      <td>8.0.8</td>\n",
              "      <td>I cannot add events to my iPhone calendar. Bot...</td>\n",
              "      <td>22</td>\n",
              "    </tr>\n",
              "    <tr>\n",
              "      <th>2</th>\n",
              "      <td>2</td>\n",
              "      <td>Not iPhone friendly</td>\n",
              "      <td>1</td>\n",
              "      <td>Carlotta429</td>\n",
              "      <td>8.0.8</td>\n",
              "      <td>It would be way easier if I could put these in...</td>\n",
              "      <td>38</td>\n",
              "    </tr>\n",
              "    <tr>\n",
              "      <th>3</th>\n",
              "      <td>3</td>\n",
              "      <td>The won’t issue refunds for cancelled shows!</td>\n",
              "      <td>1</td>\n",
              "      <td>jdthompson</td>\n",
              "      <td>8.0.8</td>\n",
              "      <td>Be careful!  They will take your money and the...</td>\n",
              "      <td>20</td>\n",
              "    </tr>\n",
              "    <tr>\n",
              "      <th>4</th>\n",
              "      <td>4</td>\n",
              "      <td>Clubhouse Reunion Tickets</td>\n",
              "      <td>1</td>\n",
              "      <td>WashRedSkins</td>\n",
              "      <td>8.0.8</td>\n",
              "      <td>I am very unpleased because I have requested a...</td>\n",
              "      <td>26</td>\n",
              "    </tr>\n",
              "  </tbody>\n",
              "</table>\n",
              "</div>"
            ],
            "text/plain": [
              "   Unnamed: 0  ... word_count\n",
              "0           0  ...         38\n",
              "1           1  ...         22\n",
              "2           2  ...         38\n",
              "3           3  ...         20\n",
              "4           4  ...         26\n",
              "\n",
              "[5 rows x 7 columns]"
            ]
          },
          "metadata": {
            "tags": []
          },
          "execution_count": 71
        }
      ]
    },
    {
      "cell_type": "markdown",
      "metadata": {
        "id": "p3OljmHvC_ZY",
        "colab_type": "text"
      },
      "source": [
        "# Summary\n",
        "\n",
        "TBA"
      ]
    },
    {
      "cell_type": "markdown",
      "metadata": {
        "id": "Sn5r-on8z6qX",
        "colab_type": "text"
      },
      "source": [
        "# References\n"
      ]
    },
    {
      "cell_type": "markdown",
      "metadata": {
        "id": "dZ5dYXR538Xt",
        "colab_type": "text"
      },
      "source": [
        "- [Brilliant tutorial for Google Play Store Scraping](https://www.curiousily.com/posts/create-dataset-for-sentiment-analysis-by-scraping-google-play-app-reviews-using-python/)"
      ]
    }
  ]
}