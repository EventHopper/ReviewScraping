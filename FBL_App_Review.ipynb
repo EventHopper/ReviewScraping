{
  "nbformat": 4,
  "nbformat_minor": 0,
  "metadata": {
    "colab": {
      "name": "FBL App Review",
      "provenance": [],
      "collapsed_sections": [
        "oiqbSRtWyZNw",
        "LL0TSRMnymUT",
        "Sn5r-on8z6qX"
      ],
      "include_colab_link": true
    },
    "kernelspec": {
      "name": "python3",
      "display_name": "Python 3"
    }
  },
  "cells": [
    {
      "cell_type": "markdown",
      "metadata": {
        "id": "view-in-github",
        "colab_type": "text"
      },
      "source": [
        "<a href=\"https://colab.research.google.com/github/EventHopper/ReviewsScraping/blob/master/FBL_App_Review.ipynb\" target=\"_parent\"><img src=\"https://colab.research.google.com/assets/colab-badge.svg\" alt=\"Open In Colab\"/></a>"
      ]
    },
    {
      "cell_type": "markdown",
      "metadata": {
        "id": "rdrSrB4Ar8Ze",
        "colab_type": "text"
      },
      "source": [
        "# **FB Local Competitive Review**\n",
        "\n",
        "\n",
        "---\n",
        "\n",
        "\n",
        "### **Application**\n",
        "**Facebook Local**\n",
        "\n",
        "Details:\n",
        "\n",
        "Size: 200 MB+,\n",
        "Installs: 5M+,\n",
        "Requires Android 4.1+\n",
        "\n",
        "---\n",
        "\n",
        "\n",
        "\n",
        "### **Review Rationale**\n",
        "\n",
        "*We want to review feedback for this app on the Google Play Store and AppStore. Note that both negative and positive are good, however the negative reviews can reveal critical features that are missing or significant bugs (if they appear frequently).*\n",
        "<br>\n",
        "\n",
        "### **Packages Used**\n",
        "\n",
        "**Google Play Store Related Packages:**\n",
        "\n",
        " - [google-play-scraper](https://github.com/JoMingyu/google-play-scraper)\n",
        "\n",
        "**AppStore Related Packages:**\n",
        "\n",
        "- TBA (to be added)"
      ]
    },
    {
      "cell_type": "markdown",
      "metadata": {
        "id": "TcrJk8xDrojX",
        "colab_type": "text"
      },
      "source": [
        "# Project Init"
      ]
    },
    {
      "cell_type": "code",
      "metadata": {
        "id": "Hk5RO6ItrKWX",
        "colab_type": "code",
        "outputId": "dc81ddaa-3e3d-44d2-ad70-f33d8a3c0b8f",
        "colab": {
          "base_uri": "https://localhost:8080/",
          "height": 51
        }
      },
      "source": [
        "!pip install -qq google-play-scraper"
      ],
      "execution_count": 5,
      "outputs": [
        {
          "output_type": "stream",
          "text": [
            "\u001b[?25l\r\u001b[K     |██████▉                         | 10kB 18.0MB/s eta 0:00:01\r\u001b[K     |█████████████▋                  | 20kB 1.7MB/s eta 0:00:01\r\u001b[K     |████████████████████▍           | 30kB 2.2MB/s eta 0:00:01\r\u001b[K     |███████████████████████████▎    | 40kB 2.5MB/s eta 0:00:01\r\u001b[K     |████████████████████████████████| 51kB 1.5MB/s \n",
            "\u001b[?25h  Building wheel for google-play-scraper (setup.py) ... \u001b[?25l\u001b[?25hdone\n"
          ],
          "name": "stdout"
        }
      ]
    },
    {
      "cell_type": "code",
      "metadata": {
        "id": "eJD1KdNZrtXC",
        "colab_type": "code",
        "colab": {}
      },
      "source": [
        "!pip install -qq -U watermark"
      ],
      "execution_count": 0,
      "outputs": []
    },
    {
      "cell_type": "code",
      "metadata": {
        "id": "e3TzO5YrrtPQ",
        "colab_type": "code",
        "outputId": "251e1322-ff42-4121-9aa7-cd79a769b428",
        "colab": {
          "base_uri": "https://localhost:8080/",
          "height": 174
        }
      },
      "source": [
        "%reload_ext watermark\n",
        "%watermark -v -p pandas,matplotlib,seaborn,google_play_scraper"
      ],
      "execution_count": 0,
      "outputs": [
        {
          "output_type": "stream",
          "text": [
            "CPython 3.6.9\n",
            "IPython 5.5.0\n",
            "\n",
            "pandas 1.0.4\n",
            "matplotlib 3.2.1\n",
            "seaborn 0.10.1\n",
            "google_play_scraper 0.0.2.6\n"
          ],
          "name": "stdout"
        },
        {
          "output_type": "stream",
          "text": [
            "/usr/local/lib/python3.6/dist-packages/statsmodels/tools/_testing.py:19: FutureWarning: pandas.util.testing is deprecated. Use the functions in the public API at pandas.testing instead.\n",
            "  import pandas.util.testing as tm\n"
          ],
          "name": "stderr"
        }
      ]
    },
    {
      "cell_type": "code",
      "metadata": {
        "id": "4DqqAjGYrxeT",
        "colab_type": "code",
        "colab": {
          "base_uri": "https://localhost:8080/",
          "height": 402
        },
        "outputId": "4e24f1ae-0f30-4aa4-a4f1-d0d552d36531"
      },
      "source": [
        "import json\n",
        "import time\n",
        "import pandas as pd\n",
        "from tqdm import tqdm\n",
        "\n",
        "import seaborn as sns\n",
        "import matplotlib.pyplot as plt\n",
        "\n",
        "from pygments import highlight\n",
        "from pygments.lexers import JsonLexer\n",
        "from pygments.formatters import TerminalFormatter\n",
        "\n",
        "from google_play_scraper import Sort, reviews, app\n",
        "\n",
        "%matplotlib inline\n",
        "%config InlineBackend.figure_format='retina'\n",
        "\n",
        "sns.set(style='whitegrid', palette='muted', font_scale=1.2)"
      ],
      "execution_count": 4,
      "outputs": [
        {
          "output_type": "stream",
          "text": [
            "/usr/local/lib/python3.6/dist-packages/statsmodels/tools/_testing.py:19: FutureWarning: pandas.util.testing is deprecated. Use the functions in the public API at pandas.testing instead.\n",
            "  import pandas.util.testing as tm\n"
          ],
          "name": "stderr"
        },
        {
          "output_type": "error",
          "ename": "ModuleNotFoundError",
          "evalue": "ignored",
          "traceback": [
            "\u001b[0;31m---------------------------------------------------------------------------\u001b[0m",
            "\u001b[0;31mModuleNotFoundError\u001b[0m                       Traceback (most recent call last)",
            "\u001b[0;32m<ipython-input-4-8003e2652381>\u001b[0m in \u001b[0;36m<module>\u001b[0;34m()\u001b[0m\n\u001b[1;32m     11\u001b[0m \u001b[0;32mfrom\u001b[0m \u001b[0mpygments\u001b[0m\u001b[0;34m.\u001b[0m\u001b[0mformatters\u001b[0m \u001b[0;32mimport\u001b[0m \u001b[0mTerminalFormatter\u001b[0m\u001b[0;34m\u001b[0m\u001b[0;34m\u001b[0m\u001b[0m\n\u001b[1;32m     12\u001b[0m \u001b[0;34m\u001b[0m\u001b[0m\n\u001b[0;32m---> 13\u001b[0;31m \u001b[0;32mfrom\u001b[0m \u001b[0mgoogle_play_scraper\u001b[0m \u001b[0;32mimport\u001b[0m \u001b[0mSort\u001b[0m\u001b[0;34m,\u001b[0m \u001b[0mreviews\u001b[0m\u001b[0;34m,\u001b[0m \u001b[0mapp\u001b[0m\u001b[0;34m\u001b[0m\u001b[0;34m\u001b[0m\u001b[0m\n\u001b[0m\u001b[1;32m     14\u001b[0m \u001b[0;34m\u001b[0m\u001b[0m\n\u001b[1;32m     15\u001b[0m \u001b[0mget_ipython\u001b[0m\u001b[0;34m(\u001b[0m\u001b[0;34m)\u001b[0m\u001b[0;34m.\u001b[0m\u001b[0mmagic\u001b[0m\u001b[0;34m(\u001b[0m\u001b[0;34m'matplotlib inline'\u001b[0m\u001b[0;34m)\u001b[0m\u001b[0;34m\u001b[0m\u001b[0;34m\u001b[0m\u001b[0m\n",
            "\u001b[0;31mModuleNotFoundError\u001b[0m: No module named 'google_play_scraper'",
            "",
            "\u001b[0;31m---------------------------------------------------------------------------\u001b[0;32m\nNOTE: If your import is failing due to a missing package, you can\nmanually install dependencies using either !pip or !apt.\n\nTo view examples of installing some common dependencies, click the\n\"Open Examples\" button below.\n\u001b[0;31m---------------------------------------------------------------------------\u001b[0m\n"
          ]
        }
      ]
    },
    {
      "cell_type": "markdown",
      "metadata": {
        "id": "4ZRO94Rlx_WJ",
        "colab_type": "text"
      },
      "source": [
        "# Data Wrangling"
      ]
    },
    {
      "cell_type": "markdown",
      "metadata": {
        "id": "ILxYFPjkSILt",
        "colab_type": "text"
      },
      "source": [
        "## Google Play Store Scraping"
      ]
    },
    {
      "cell_type": "markdown",
      "metadata": {
        "id": "oaSMAZ030f6j",
        "colab_type": "text"
      },
      "source": [
        "Step Summary:\n",
        "\n",
        "- Scrape Google Play app information\n",
        "- Scrape user reviews for Google Play apps\n",
        "- Save the dataset to CSV files"
      ]
    },
    {
      "cell_type": "markdown",
      "metadata": {
        "id": "xyGSUnsK3ZNW",
        "colab_type": "text"
      },
      "source": [
        "Package name of app: com.facebook.Socal\n",
        "Obtained using ADB shell command\n",
        "\n",
        "\n",
        "```\n",
        "$ adb shell \"pm list packages -f facebook\"\n",
        "```"
      ]
    },
    {
      "cell_type": "code",
      "metadata": {
        "id": "7pFMrjPEsQEk",
        "colab_type": "code",
        "colab": {}
      },
      "source": [
        "app_packages = [\n",
        "  'com.facebook.Socal'\n",
        "]"
      ],
      "execution_count": 0,
      "outputs": []
    },
    {
      "cell_type": "markdown",
      "metadata": {
        "id": "Lz5x1uj2sP2A",
        "colab_type": "text"
      },
      "source": [
        "Utilized package name in for loop (note multiple package names could have been added to app_packages for same result)"
      ]
    },
    {
      "cell_type": "code",
      "metadata": {
        "id": "6cqaJkR-tx9f",
        "colab_type": "code",
        "outputId": "832b986f-6a09-4878-ecaa-246ee9115136",
        "colab": {
          "base_uri": "https://localhost:8080/",
          "height": 34
        }
      },
      "source": [
        "app_infos = []\n",
        "\n",
        "for ap in tqdm(app_packages):\n",
        "  info = app(ap, lang='en', country='us')\n",
        "  del info['comments']\n",
        "  app_infos.append(info)"
      ],
      "execution_count": 0,
      "outputs": [
        {
          "output_type": "stream",
          "text": [
            "100%|██████████| 1/1 [00:01<00:00,  1.05s/it]\n"
          ],
          "name": "stderr"
        }
      ]
    },
    {
      "cell_type": "markdown",
      "metadata": {
        "id": "HcqDfOxyNWrA",
        "colab_type": "text"
      },
      "source": [
        "We got the info for the app. Let's write a helper function that prints JSON objects a bit better:"
      ]
    },
    {
      "cell_type": "code",
      "metadata": {
        "id": "6DhwJiXFt0Zb",
        "colab_type": "code",
        "colab": {}
      },
      "source": [
        "def print_json(json_object):\n",
        "  json_str = json.dumps(\n",
        "    json_object, \n",
        "    indent=2, \n",
        "    sort_keys=True, \n",
        "    default=str\n",
        "  )\n",
        "  print(highlight(json_str, JsonLexer(), TerminalFormatter()))"
      ],
      "execution_count": 0,
      "outputs": []
    },
    {
      "cell_type": "markdown",
      "metadata": {
        "id": "385fEVLONdac",
        "colab_type": "text"
      },
      "source": [
        "Here is a sample app information from the list:"
      ]
    },
    {
      "cell_type": "code",
      "metadata": {
        "id": "ZScwP1UDt2Ll",
        "colab_type": "code",
        "outputId": "a8e3a70c-818a-4acb-f8b3-29725c059820",
        "colab": {
          "base_uri": "https://localhost:8080/",
          "height": 1000
        }
      },
      "source": [
        "print_json(app_infos[0])"
      ],
      "execution_count": 0,
      "outputs": [
        {
          "output_type": "stream",
          "text": [
            "{\n",
            "  \u001b[34;01m\"adSupported\"\u001b[39;49;00m: \u001b[34mnull\u001b[39;49;00m,\n",
            "  \u001b[34;01m\"androidVersion\"\u001b[39;49;00m: \u001b[33m\"4.1\"\u001b[39;49;00m,\n",
            "  \u001b[34;01m\"androidVersionText\"\u001b[39;49;00m: \u001b[33m\"4.1 and up\"\u001b[39;49;00m,\n",
            "  \u001b[34;01m\"appId\"\u001b[39;49;00m: \u001b[33m\"com.facebook.Socal\"\u001b[39;49;00m,\n",
            "  \u001b[34;01m\"containsAds\"\u001b[39;49;00m: \u001b[34mnull\u001b[39;49;00m,\n",
            "  \u001b[34;01m\"contentRating\"\u001b[39;49;00m: \u001b[33m\"Teen\"\u001b[39;49;00m,\n",
            "  \u001b[34;01m\"contentRatingDescription\"\u001b[39;49;00m: \u001b[34mnull\u001b[39;49;00m,\n",
            "  \u001b[34;01m\"currency\"\u001b[39;49;00m: \u001b[33m\"USD\"\u001b[39;49;00m,\n",
            "  \u001b[34;01m\"description\"\u001b[39;49;00m: \u001b[33m\"Welcome to Facebook Local!\\u00a0We\\u2019ve updated our events app to help you discover places and things to do recommended by friends you know and trust.\\r\\n\\r\\nKeep up with what\\u2019s happening locally\\u2014wherever you are\\u2014whether you\\u2019re looking for something to do with friends this weekend or want to explore a new neighborhood.\\r\\n\\r\\nFeatures:\\r\\n\\r\\n* See the most recent activity, events and places your friends are interacting with and updates from event hosts and Pages you follow.\\r\\n* Find events and activities happening near you on an interactive map and filter by time, category, location and more.\\r\\n* Get recommendations based on what's popular with your friends, things you've been to in the past, Pages you like and our curated Guides.\\r\\n* Choose to add calendars from your phone to see all of your plans in one place.\\r\\n* Opt-in to get notifications about your upcoming events so you know if details change.\\r\\n\\r\\nWhat's New:\\r\\n\\r\\n* Ability to search for events, places and activities nearby or in another city or neighborhood.\\r\\n* Browse timely Guides to find events, places and things to do by category.\\r\\n* See event invitations you haven\\u2019t responded to at the top of your calendar.\\r\\n* Explore Local Lists of recommended events and places in more than 60 cities.\"\u001b[39;49;00m,\n",
            "  \u001b[34;01m\"descriptionHTML\"\u001b[39;49;00m: \u001b[33m\"Welcome to Facebook Local!\\u00a0We\\u2019ve updated our events app to help you discover places and things to do recommended by friends you know and trust.<br><br>Keep up with what\\u2019s happening locally\\u2014wherever you are\\u2014whether you\\u2019re looking for something to do with friends this weekend or want to explore a new neighborhood.<br><br>Features:<br><br>* See the most recent activity, events and places your friends are interacting with and updates from event hosts and Pages you follow.<br>* Find events and activities happening near you on an interactive map and filter by time, category, location and more.<br>* Get recommendations based on what&#39;s popular with your friends, things you&#39;ve been to in the past, Pages you like and our curated Guides.<br>* Choose to add calendars from your phone to see all of your plans in one place.<br>* Opt-in to get notifications about your upcoming events so you know if details change.<br><br>What&#39;s New:<br><br>* Ability to search for events, places and activities nearby or in another city or neighborhood.<br>* Browse timely Guides to find events, places and things to do by category.<br>* See event invitations you haven\\u2019t responded to at the top of your calendar.<br>* Explore Local Lists of recommended events and places in more than 60 cities.\"\u001b[39;49;00m,\n",
            "  \u001b[34;01m\"developer\"\u001b[39;49;00m: \u001b[33m\"Facebook\"\u001b[39;49;00m,\n",
            "  \u001b[34;01m\"developerAddress\"\u001b[39;49;00m: \u001b[33m\"1 Hacker Way\\nMenlo Park, CA 94025\"\u001b[39;49;00m,\n",
            "  \u001b[34;01m\"developerEmail\"\u001b[39;49;00m: \u001b[33m\"android-support@fb.com\"\u001b[39;49;00m,\n",
            "  \u001b[34;01m\"developerId\"\u001b[39;49;00m: \u001b[33m\"Facebook\"\u001b[39;49;00m,\n",
            "  \u001b[34;01m\"developerInternalID\"\u001b[39;49;00m: \u001b[33m\"5629993546372213086\"\u001b[39;49;00m,\n",
            "  \u001b[34;01m\"developerWebsite\"\u001b[39;49;00m: \u001b[33m\"https://www.facebook.com/facebook\"\u001b[39;49;00m,\n",
            "  \u001b[34;01m\"free\"\u001b[39;49;00m: \u001b[34mtrue\u001b[39;49;00m,\n",
            "  \u001b[34;01m\"genre\"\u001b[39;49;00m: \u001b[33m\"Social\"\u001b[39;49;00m,\n",
            "  \u001b[34;01m\"genreId\"\u001b[39;49;00m: \u001b[33m\"SOCIAL\"\u001b[39;49;00m,\n",
            "  \u001b[34;01m\"headerImage\"\u001b[39;49;00m: \u001b[33m\"https://lh3.googleusercontent.com/CrEhXkFBVQBcUnoek5uOw617SUW43DWhxXRcIWpREUlaVjUS7-kY9gja2lyEPdB4ueU\"\u001b[39;49;00m,\n",
            "  \u001b[34;01m\"histogram\"\u001b[39;49;00m: [\n",
            "    \u001b[34m2023\u001b[39;49;00m,\n",
            "    \u001b[34m793\u001b[39;49;00m,\n",
            "    \u001b[34m1433\u001b[39;49;00m,\n",
            "    \u001b[34m2043\u001b[39;49;00m,\n",
            "    \u001b[34m10879\u001b[39;49;00m\n",
            "  ],\n",
            "  \u001b[34;01m\"icon\"\u001b[39;49;00m: \u001b[33m\"https://lh3.googleusercontent.com/cPPa2q4ZTd4jr8B-Hiqydsm3oI4pbTHJnuiVjRRv4GcpX4EUMZ-KdWghhBUXXJoUmfyP\"\u001b[39;49;00m,\n",
            "  \u001b[34;01m\"installs\"\u001b[39;49;00m: \u001b[33m\"5,000,000+\"\u001b[39;49;00m,\n",
            "  \u001b[34;01m\"minInstalls\"\u001b[39;49;00m: \u001b[34m5000000\u001b[39;49;00m,\n",
            "  \u001b[34;01m\"offersIAP\"\u001b[39;49;00m: \u001b[34mnull\u001b[39;49;00m,\n",
            "  \u001b[34;01m\"originalPrice\"\u001b[39;49;00m: \u001b[34mnull\u001b[39;49;00m,\n",
            "  \u001b[34;01m\"price\"\u001b[39;49;00m: \u001b[34m0\u001b[39;49;00m,\n",
            "  \u001b[34;01m\"privacyPolicy\"\u001b[39;49;00m: \u001b[33m\"https://www.facebook.com/about/privacy\"\u001b[39;49;00m,\n",
            "  \u001b[34;01m\"ratings\"\u001b[39;49;00m: \u001b[34m17173\u001b[39;49;00m,\n",
            "  \u001b[34;01m\"recentChanges\"\u001b[39;49;00m: \u001b[34mnull\u001b[39;49;00m,\n",
            "  \u001b[34;01m\"recentChangesHTML\"\u001b[39;49;00m: \u001b[34mnull\u001b[39;49;00m,\n",
            "  \u001b[34;01m\"released\"\u001b[39;49;00m: \u001b[33m\"Dec 12, 2016\"\u001b[39;49;00m,\n",
            "  \u001b[34;01m\"reviews\"\u001b[39;49;00m: \u001b[34m5589\u001b[39;49;00m,\n",
            "  \u001b[34;01m\"sale\"\u001b[39;49;00m: \u001b[34mfalse\u001b[39;49;00m,\n",
            "  \u001b[34;01m\"saleText\"\u001b[39;49;00m: \u001b[34mnull\u001b[39;49;00m,\n",
            "  \u001b[34;01m\"saleTime\"\u001b[39;49;00m: \u001b[34mnull\u001b[39;49;00m,\n",
            "  \u001b[34;01m\"score\"\u001b[39;49;00m: \u001b[34m4.1042037\u001b[39;49;00m,\n",
            "  \u001b[34;01m\"screenshots\"\u001b[39;49;00m: [\n",
            "    \u001b[33m\"https://lh3.googleusercontent.com/2mqi4kYW7Ji7aQ9N0zGCTWyr1xKnV8aQO0IhvYb6bSiBOrwaDpKI-REuzZwgXasAU38\"\u001b[39;49;00m,\n",
            "    \u001b[33m\"https://lh3.googleusercontent.com/hst4eyuW6hEjPdndR08-PZ7R61qE5uDhhrY3ABl0huMIyQLQE43ypVKJPWcVQ4iK8A\"\u001b[39;49;00m,\n",
            "    \u001b[33m\"https://lh3.googleusercontent.com/QmHHBVB4hbXECIHd2n2ypb8ar_EROI-1TV38FT8aGX7alVEu_I6YiiJa1tM5mbJ6dmE\"\u001b[39;49;00m,\n",
            "    \u001b[33m\"https://lh3.googleusercontent.com/3218sOy38DAZ-PL5xXHkofbv6K6DqIAT5hpzmr6oDERIflWSmJFth7bZpr2hVHiMHbP0\"\u001b[39;49;00m,\n",
            "    \u001b[33m\"https://lh3.googleusercontent.com/mWyTgiRaYRk0KATdbltcy21qxn7InoAr4XJbDfahlmT4W4ascZXztssmP-r0vIq0vUoK\"\u001b[39;49;00m\n",
            "  ],\n",
            "  \u001b[34;01m\"size\"\u001b[39;49;00m: \u001b[33m\"Varies with device\"\u001b[39;49;00m,\n",
            "  \u001b[34;01m\"summary\"\u001b[39;49;00m: \u001b[33m\"Find things to do near you\"\u001b[39;49;00m,\n",
            "  \u001b[34;01m\"summaryHTML\"\u001b[39;49;00m: \u001b[33m\"Find things to do near you\"\u001b[39;49;00m,\n",
            "  \u001b[34;01m\"title\"\u001b[39;49;00m: \u001b[33m\"Facebook Local\"\u001b[39;49;00m,\n",
            "  \u001b[34;01m\"updated\"\u001b[39;49;00m: \u001b[34m1587254178\u001b[39;49;00m,\n",
            "  \u001b[34;01m\"url\"\u001b[39;49;00m: \u001b[33m\"https://play.google.com/store/apps/details?id=com.facebook.Socal&hl=en&gl=us\"\u001b[39;49;00m,\n",
            "  \u001b[34;01m\"version\"\u001b[39;49;00m: \u001b[33m\"19.0.0.52.2104\"\u001b[39;49;00m,\n",
            "  \u001b[34;01m\"video\"\u001b[39;49;00m: \u001b[34mnull\u001b[39;49;00m,\n",
            "  \u001b[34;01m\"videoImage\"\u001b[39;49;00m: \u001b[34mnull\u001b[39;49;00m\n",
            "}\n",
            "\n"
          ],
          "name": "stdout"
        }
      ]
    },
    {
      "cell_type": "markdown",
      "metadata": {
        "id": "dAOdYGkYODcZ",
        "colab_type": "text"
      },
      "source": [
        "This contains lots of information including the number of ratings, number of reviews and number of ratings for each score (1 to 5). Let's ignore all of that and have a look at their beautiful icons:"
      ]
    },
    {
      "cell_type": "code",
      "metadata": {
        "id": "8sL_W5hKuBYg",
        "colab_type": "code",
        "outputId": "74965962-4cab-4086-b337-7fd6adb6c0b5",
        "colab": {
          "base_uri": "https://localhost:8080/",
          "height": 34
        }
      },
      "source": [
        "def format_title(title):\n",
        "  sep_index = title.find(':') if title.find(':') != -1 else title.find('-')\n",
        "  if sep_index != -1:\n",
        "    title = title[:sep_index]\n",
        "  return title[:10]\n",
        "\n",
        "fig, axs = plt.subplots(2, len(app_infos) // 2, figsize=(14, 5))\n",
        "\n",
        "for i, ax in enumerate(axs.flat):\n",
        "  ai = app_infos[i]\n",
        "  img = plt.imread(ai['icon'])\n",
        "  ax.imshow(img)\n",
        "  ax.set_title(format_title(ai['title']))\n",
        "  ax.axis('off')"
      ],
      "execution_count": 0,
      "outputs": [
        {
          "output_type": "display_data",
          "data": {
            "text/plain": [
              "<Figure size 1008x360 with 0 Axes>"
            ]
          },
          "metadata": {
            "tags": []
          }
        }
      ]
    },
    {
      "cell_type": "code",
      "metadata": {
        "id": "ST9PrIjxuEHp",
        "colab_type": "code",
        "colab": {}
      },
      "source": [
        "timestr = time.strftime(\"%Y%m%d-%H%M%S\")\n",
        "app_infos_df = pd.DataFrame(app_infos)\n",
        "app_infos_df.to_csv('app_details'+timestr+'.csv', index=None, header=True)"
      ],
      "execution_count": 0,
      "outputs": []
    },
    {
      "cell_type": "markdown",
      "metadata": {
        "id": "mXqklWjwPLVv",
        "colab_type": "text"
      },
      "source": [
        "### Scraping App Reviews\n",
        "\n",
        "In an ideal world, we would get all the reviews. But there are lots of them and we're scraping the data. That wouldn't be very polite. What should we do?\n",
        "\n",
        "We want:\n",
        "\n",
        "- Balanced dataset - roughly the same number of reviews for each score (1-5)\n",
        "- A representative sample of the reviews for each app\n",
        "\n",
        "We can satisfy the first requirement by using the scraping package option to filter the review score. For the second, we'll sort the reviews by their helpfulness, which are the reviews that Google Play thinks are most important. Just in case, we'll get a subset from the newest, too:"
      ]
    },
    {
      "cell_type": "code",
      "metadata": {
        "id": "5_A4acPmuYpz",
        "colab_type": "code",
        "outputId": "2e96647e-d257-42b8-d91c-69a5d5f01e03",
        "colab": {
          "base_uri": "https://localhost:8080/",
          "height": 34
        }
      },
      "source": [
        "app_reviews = []\n",
        "\n",
        "for ap in tqdm(app_packages):\n",
        "  for score in list(range(1, 6)):\n",
        "    for sort_order in [Sort.MOST_RELEVANT, Sort.NEWEST]:\n",
        "      rvs, _ = reviews(\n",
        "        ap,\n",
        "        lang='en',\n",
        "        country='us',\n",
        "        sort=sort_order,\n",
        "        count= 200 if score == 3 else 100,\n",
        "        filter_score_with=score\n",
        "      )\n",
        "      for r in rvs:\n",
        "        r['sortOrder'] = 'most_relevant' if sort_order == Sort.MOST_RELEVANT else 'newest'\n",
        "        r['appId'] = ap\n",
        "      app_reviews.extend(rvs)"
      ],
      "execution_count": 0,
      "outputs": [
        {
          "output_type": "stream",
          "text": [
            "100%|██████████| 1/1 [00:03<00:00,  3.52s/it]\n"
          ],
          "name": "stderr"
        }
      ]
    },
    {
      "cell_type": "code",
      "metadata": {
        "id": "B3bzOwATucIg",
        "colab_type": "code",
        "outputId": "198362e8-2045-4caf-a310-d706cfe8a0b9",
        "colab": {
          "base_uri": "https://localhost:8080/",
          "height": 299
        }
      },
      "source": [
        "print_json(app_reviews[0])"
      ],
      "execution_count": 0,
      "outputs": [
        {
          "output_type": "stream",
          "text": [
            "{\n",
            "  \u001b[34;01m\"appId\"\u001b[39;49;00m: \u001b[33m\"com.facebook.Socal\"\u001b[39;49;00m,\n",
            "  \u001b[34;01m\"at\"\u001b[39;49;00m: \u001b[33m\"2020-04-22 11:54:28\"\u001b[39;49;00m,\n",
            "  \u001b[34;01m\"content\"\u001b[39;49;00m: \u001b[33m\"Uses 496MB internal memory and won't run from SD. Poor quality assurance - some businesses appear randomly dropped in entirely the wrong place (e.g. Costa, Manchester Arndale Centre is shown on a housing estate near Bolton). Uninstalled.\"\u001b[39;49;00m,\n",
            "  \u001b[34;01m\"repliedAt\"\u001b[39;49;00m: \u001b[34mnull\u001b[39;49;00m,\n",
            "  \u001b[34;01m\"replyContent\"\u001b[39;49;00m: \u001b[34mnull\u001b[39;49;00m,\n",
            "  \u001b[34;01m\"reviewCreatedVersion\"\u001b[39;49;00m: \u001b[33m\"19.0.0.52.2104\"\u001b[39;49;00m,\n",
            "  \u001b[34;01m\"reviewId\"\u001b[39;49;00m: \u001b[33m\"gp:AOqpTOGGWG0mw15Cg7v0CXrB2FRJ5vToBK6ndfUuDGDfyPdmc5r6ya5g6pCI7SimADOzWuExJ7aR01WemP-g_zQ\"\u001b[39;49;00m,\n",
            "  \u001b[34;01m\"score\"\u001b[39;49;00m: \u001b[34m1\u001b[39;49;00m,\n",
            "  \u001b[34;01m\"sortOrder\"\u001b[39;49;00m: \u001b[33m\"most_relevant\"\u001b[39;49;00m,\n",
            "  \u001b[34;01m\"thumbsUpCount\"\u001b[39;49;00m: \u001b[34m256\u001b[39;49;00m,\n",
            "  \u001b[34;01m\"userImage\"\u001b[39;49;00m: \u001b[33m\"https://lh3.googleusercontent.com/-62mHJxvVL2o/AAAAAAAAAAI/AAAAAAAAAAA/AMZuucnrlZzdPDn2zp6QN_DRqhkPnsFupg/photo.jpg\"\u001b[39;49;00m,\n",
            "  \u001b[34;01m\"userName\"\u001b[39;49;00m: \u001b[33m\"Tom Higgs\"\u001b[39;49;00m\n",
            "}\n",
            "\n"
          ],
          "name": "stdout"
        }
      ]
    },
    {
      "cell_type": "code",
      "metadata": {
        "id": "s7cJIH34ueaX",
        "colab_type": "code",
        "outputId": "a26e9594-7a97-4150-be7a-c85218ec08cb",
        "colab": {
          "base_uri": "https://localhost:8080/",
          "height": 34
        }
      },
      "source": [
        "len(app_reviews)"
      ],
      "execution_count": 0,
      "outputs": [
        {
          "output_type": "execute_result",
          "data": {
            "text/plain": [
              "1120"
            ]
          },
          "metadata": {
            "tags": []
          },
          "execution_count": 13
        }
      ]
    },
    {
      "cell_type": "code",
      "metadata": {
        "id": "5FQYEw71ugAP",
        "colab_type": "code",
        "outputId": "570f2354-218d-4a00-f9e6-dc08cbb54c6f",
        "colab": {
          "base_uri": "https://localhost:8080/",
          "height": 34
        }
      },
      "source": [
        "timestr = time.strftime(\"%Y%m%d-%H%M%S\")\n",
        "app_reviews_df = pd.DataFrame(app_reviews)\n",
        "app_reviews_df.to_csv('FacebookLocalReviews-'+timestr+'.csv', index=None, header=True)"
      ],
      "execution_count": 0,
      "outputs": [
        {
          "output_type": "stream",
          "text": [
            "20200606-043144\n"
          ],
          "name": "stdout"
        }
      ]
    },
    {
      "cell_type": "markdown",
      "metadata": {
        "id": "oiqbSRtWyZNw",
        "colab_type": "text"
      },
      "source": [
        "## AppStore Scraping"
      ]
    },
    {
      "cell_type": "code",
      "metadata": {
        "id": "PhnS90T4v2MI",
        "colab_type": "code",
        "outputId": "2bc7ca04-50b9-4cf2-cfbc-22d7752e2bb0",
        "colab": {
          "base_uri": "https://localhost:8080/",
          "height": 255
        }
      },
      "source": [
        "!pip install app_store"
      ],
      "execution_count": 2,
      "outputs": [
        {
          "output_type": "stream",
          "text": [
            "Collecting app_store\n",
            "  Downloading https://files.pythonhosted.org/packages/d9/94/6d902f7f0e41e109b6e66e589d50c16f3a7f0c08d99dcf509047e7846ab8/app_store-1.0.1.tar.gz\n",
            "Requirement already satisfied: requests in /usr/local/lib/python3.6/dist-packages (from app_store) (2.23.0)\n",
            "Requirement already satisfied: idna<3,>=2.5 in /usr/local/lib/python3.6/dist-packages (from requests->app_store) (2.9)\n",
            "Requirement already satisfied: chardet<4,>=3.0.2 in /usr/local/lib/python3.6/dist-packages (from requests->app_store) (3.0.4)\n",
            "Requirement already satisfied: certifi>=2017.4.17 in /usr/local/lib/python3.6/dist-packages (from requests->app_store) (2020.4.5.1)\n",
            "Requirement already satisfied: urllib3!=1.25.0,!=1.25.1,<1.26,>=1.21.1 in /usr/local/lib/python3.6/dist-packages (from requests->app_store) (1.24.3)\n",
            "Building wheels for collected packages: app-store\n",
            "  Building wheel for app-store (setup.py) ... \u001b[?25l\u001b[?25hdone\n",
            "  Created wheel for app-store: filename=app_store-1.0.1-cp36-none-any.whl size=2866 sha256=4e1ab949e3f6758b393891c6bdc93b51fa6be4bd68dbba0812777b9f14b987ef\n",
            "  Stored in directory: /root/.cache/pip/wheels/ff/f7/e9/0292ee5fe831b488407abec56a041694108aa82101eaf0f68b\n",
            "Successfully built app-store\n",
            "Installing collected packages: app-store\n",
            "Successfully installed app-store-1.0.1\n"
          ],
          "name": "stdout"
        }
      ]
    },
    {
      "cell_type": "code",
      "metadata": {
        "id": "WlD3QJOwqhtR",
        "colab_type": "code",
        "colab": {}
      },
      "source": [
        "import app_store.reviews\n",
        "import pandas as pd"
      ],
      "execution_count": 0,
      "outputs": []
    },
    {
      "cell_type": "code",
      "metadata": {
        "id": "w0txH6Dkyq5k",
        "colab_type": "code",
        "outputId": "bcb90533-f761-45aa-b285-daf8cab7681c",
        "colab": {
          "base_uri": "https://localhost:8080/",
          "height": 359
        }
      },
      "source": [
        "reviews = app_store.reviews.fetch_reviews(app_id=1153443320, page_num=1)\n",
        "\n",
        "d = []\n",
        "for review in reviews:\n",
        "    d.append((review.title(), review.rating(), review.author_name(), review.version(), review.content()))\n",
        "\n",
        "df = pd.DataFrame(d, columns=('Review_Title', 'Rating', 'Author_Name', 'Review_Version', 'Content'))\n",
        "\n",
        "df.head(10)"
      ],
      "execution_count": 9,
      "outputs": [
        {
          "output_type": "execute_result",
          "data": {
            "text/html": [
              "<div>\n",
              "<style scoped>\n",
              "    .dataframe tbody tr th:only-of-type {\n",
              "        vertical-align: middle;\n",
              "    }\n",
              "\n",
              "    .dataframe tbody tr th {\n",
              "        vertical-align: top;\n",
              "    }\n",
              "\n",
              "    .dataframe thead th {\n",
              "        text-align: right;\n",
              "    }\n",
              "</style>\n",
              "<table border=\"1\" class=\"dataframe\">\n",
              "  <thead>\n",
              "    <tr style=\"text-align: right;\">\n",
              "      <th></th>\n",
              "      <th>Review_Title</th>\n",
              "      <th>Rating</th>\n",
              "      <th>Author_Name</th>\n",
              "      <th>Review_Version</th>\n",
              "      <th>Content</th>\n",
              "    </tr>\n",
              "  </thead>\n",
              "  <tbody>\n",
              "    <tr>\n",
              "      <th>0</th>\n",
              "      <td>Notifications screen doesn’t load</td>\n",
              "      <td>1</td>\n",
              "      <td>Daguerratype</td>\n",
              "      <td>32.0</td>\n",
              "      <td>Latest update broke the notification screen, m...</td>\n",
              "    </tr>\n",
              "    <tr>\n",
              "      <th>1</th>\n",
              "      <td>Trying to post an event</td>\n",
              "      <td>1</td>\n",
              "      <td>Snode3</td>\n",
              "      <td>32.0</td>\n",
              "      <td>Invalid request domain:   Blah blah blah.  How...</td>\n",
              "    </tr>\n",
              "    <tr>\n",
              "      <th>2</th>\n",
              "      <td>App crashes</td>\n",
              "      <td>1</td>\n",
              "      <td>ariesanna</td>\n",
              "      <td>31.0</td>\n",
              "      <td>App opens and crashes when try to change inter...</td>\n",
              "    </tr>\n",
              "    <tr>\n",
              "      <th>3</th>\n",
              "      <td>please let us block/hide events</td>\n",
              "      <td>1</td>\n",
              "      <td>smoniaa</td>\n",
              "      <td>31.0</td>\n",
              "      <td>please please create the option to block or hi...</td>\n",
              "    </tr>\n",
              "    <tr>\n",
              "      <th>4</th>\n",
              "      <td>Please give us dark mode and an iPad version!</td>\n",
              "      <td>2</td>\n",
              "      <td>Sicilianvirgo</td>\n",
              "      <td>31.0</td>\n",
              "      <td>iPad version would allow us to use it in lands...</td>\n",
              "    </tr>\n",
              "    <tr>\n",
              "      <th>5</th>\n",
              "      <td>What happened here?</td>\n",
              "      <td>2</td>\n",
              "      <td>Lawrence Kay</td>\n",
              "      <td>31.0</td>\n",
              "      <td>The app is so busy promoting “other” events th...</td>\n",
              "    </tr>\n",
              "    <tr>\n",
              "      <th>6</th>\n",
              "      <td>No calendar sync? Seriously?</td>\n",
              "      <td>1</td>\n",
              "      <td>100%Insomniac</td>\n",
              "      <td>31.0</td>\n",
              "      <td>This app, and Facebook events in general, coul...</td>\n",
              "    </tr>\n",
              "    <tr>\n",
              "      <th>7</th>\n",
              "      <td>Hard to use, weird sorting</td>\n",
              "      <td>1</td>\n",
              "      <td>BahnBahn</td>\n",
              "      <td>31.0</td>\n",
              "      <td>The sorting makes this app really hard to use....</td>\n",
              "    </tr>\n",
              "    <tr>\n",
              "      <th>8</th>\n",
              "      <td>Handy but needs an update!</td>\n",
              "      <td>2</td>\n",
              "      <td>laurenrodgers90</td>\n",
              "      <td>30.0</td>\n",
              "      <td>I create events quite often. But recently for ...</td>\n",
              "    </tr>\n",
              "    <tr>\n",
              "      <th>9</th>\n",
              "      <td>Muy vomito esta tarde</td>\n",
              "      <td>5</td>\n",
              "      <td>quezadita</td>\n",
              "      <td>30.0</td>\n",
              "      <td>Cómo</td>\n",
              "    </tr>\n",
              "  </tbody>\n",
              "</table>\n",
              "</div>"
            ],
            "text/plain": [
              "                                    Review_Title  ...                                            Content\n",
              "0              Notifications screen doesn’t load  ...  Latest update broke the notification screen, m...\n",
              "1                        Trying to post an event  ...  Invalid request domain:   Blah blah blah.  How...\n",
              "2                                    App crashes  ...  App opens and crashes when try to change inter...\n",
              "3                please let us block/hide events  ...  please please create the option to block or hi...\n",
              "4  Please give us dark mode and an iPad version!  ...  iPad version would allow us to use it in lands...\n",
              "5                            What happened here?  ...  The app is so busy promoting “other” events th...\n",
              "6                   No calendar sync? Seriously?  ...  This app, and Facebook events in general, coul...\n",
              "7                     Hard to use, weird sorting  ...  The sorting makes this app really hard to use....\n",
              "8                     Handy but needs an update!  ...  I create events quite often. But recently for ...\n",
              "9                          Muy vomito esta tarde  ...                                               Cómo\n",
              "\n",
              "[10 rows x 5 columns]"
            ]
          },
          "metadata": {
            "tags": []
          },
          "execution_count": 9
        }
      ]
    },
    {
      "cell_type": "code",
      "metadata": {
        "id": "XDw9S-BuJ3rW",
        "colab_type": "code",
        "colab": {}
      },
      "source": [
        ""
      ],
      "execution_count": 0,
      "outputs": []
    },
    {
      "cell_type": "markdown",
      "metadata": {
        "id": "LL0TSRMnymUT",
        "colab_type": "text"
      },
      "source": [
        "# EDA\n",
        "\n",
        "Next, we're going to use the reviews for sentiment analysis with BERT. But first, we'll have to do some text preprocessing!\n",
        "\n"
      ]
    },
    {
      "cell_type": "code",
      "metadata": {
        "id": "DH8TGQIKysxJ",
        "colab_type": "code",
        "colab": {}
      },
      "source": [
        "# TBA"
      ],
      "execution_count": 0,
      "outputs": []
    },
    {
      "cell_type": "markdown",
      "metadata": {
        "id": "MkjjHaQWSoq1",
        "colab_type": "text"
      },
      "source": [
        "#Pain Point Discovery\n",
        "\n",
        "### Hypotheses\n",
        "For Users:\n",
        "- Cluttered atmosphere of Facebook events (Events get drowned out including invites)\n",
        "- Facebook Local doesn't sync with calendar well\n",
        "\n",
        "For Event Planners:\n",
        "- Apathy towards events (spamming the interested button)\n",
        "- A good single source for upcoming events"
      ]
    },
    {
      "cell_type": "code",
      "metadata": {
        "id": "CdX5sxgPVaxm",
        "colab_type": "code",
        "colab": {}
      },
      "source": [
        ""
      ],
      "execution_count": 0,
      "outputs": []
    },
    {
      "cell_type": "markdown",
      "metadata": {
        "id": "YFGevgUCRh4M",
        "colab_type": "text"
      },
      "source": [
        "#Feature Weighting"
      ]
    },
    {
      "cell_type": "code",
      "metadata": {
        "id": "PkelneonRkz3",
        "colab_type": "code",
        "colab": {}
      },
      "source": [
        ""
      ],
      "execution_count": 0,
      "outputs": []
    },
    {
      "cell_type": "markdown",
      "metadata": {
        "id": "ExhZcPfMDDcQ",
        "colab_type": "text"
      },
      "source": [
        "# Summary\n",
        "\n",
        "TBA"
      ]
    },
    {
      "cell_type": "markdown",
      "metadata": {
        "id": "Sn5r-on8z6qX",
        "colab_type": "text"
      },
      "source": [
        "# References\n"
      ]
    },
    {
      "cell_type": "markdown",
      "metadata": {
        "id": "dZ5dYXR538Xt",
        "colab_type": "text"
      },
      "source": [
        "- [Brilliant tutorial for Google Play Store Scraping](https://www.curiousily.com/posts/create-dataset-for-sentiment-analysis-by-scraping-google-play-app-reviews-using-python/)"
      ]
    }
  ]
}